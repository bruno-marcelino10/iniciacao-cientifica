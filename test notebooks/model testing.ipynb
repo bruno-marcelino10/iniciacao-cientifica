{
 "cells": [
  {
   "cell_type": "markdown",
   "metadata": {},
   "source": [
    "# Feature Import"
   ]
  },
  {
   "cell_type": "code",
   "execution_count": 1,
   "metadata": {},
   "outputs": [],
   "source": [
    "# Manipulação de Dados\n",
    "import pandas as pd\n",
    "import numpy as np\n",
    "import matplotlib.pyplot as plt\n",
    "\n",
    "# Pré-processamento dos Dados\n",
    "from sklearn.preprocessing import StandardScaler\n",
    "from sklearn.decomposition import PCA\n",
    "\n",
    "# Modelos Utilizados\n",
    "from sklearn.ensemble import RandomForestClassifier\n",
    "from sklearn.linear_model import LogisticRegression\n",
    "from sklearn.neural_network import MLPClassifier\n",
    "\n",
    "# Otimização\n",
    "from sklearn.model_selection import train_test_split, GridSearchCV\n",
    "\n",
    "# Métricas de Avaliação: Classificação\n",
    "from sklearn.metrics import classification_report, confusion_matrix, accuracy_score, roc_curve, auc, RocCurveDisplay"
   ]
  },
  {
   "cell_type": "code",
   "execution_count": 2,
   "metadata": {},
   "outputs": [
    {
     "name": "stdout",
     "output_type": "stream",
     "text": [
      "DataFrames disponíveis:  ['df_1y', 'df_2y', 'df_3y', 'df_4y', 'df_5y']\n",
      "\n",
      "Selecione dados de 1 a 5 anos pré-falência: 1\n"
     ]
    }
   ],
   "source": [
    "dfs = pd.read_excel(\"../data/dados.xlsx\", sheet_name = None, index_col = \"Empresa\")\n",
    "print(\"DataFrames disponíveis: \", list(dfs.keys())) # representam indicadores de anos antes da falência\n",
    "\n",
    "n = int(input(\"\\nSelecione dados de 1 a 5 anos pré-falência: \"))"
   ]
  },
  {
   "cell_type": "code",
   "execution_count": 3,
   "metadata": {},
   "outputs": [
    {
     "data": {
      "text/html": [
       "<div>\n",
       "<style scoped>\n",
       "    .dataframe tbody tr th:only-of-type {\n",
       "        vertical-align: middle;\n",
       "    }\n",
       "\n",
       "    .dataframe tbody tr th {\n",
       "        vertical-align: top;\n",
       "    }\n",
       "\n",
       "    .dataframe thead th {\n",
       "        text-align: right;\n",
       "    }\n",
       "</style>\n",
       "<table border=\"1\" class=\"dataframe\">\n",
       "  <thead>\n",
       "    <tr style=\"text-align: right;\">\n",
       "      <th></th>\n",
       "      <th>Dispon/PC</th>\n",
       "      <th>Dispon/Receita Liq Operacional</th>\n",
       "      <th>Dispon/AC</th>\n",
       "      <th>Dispon/AT</th>\n",
       "      <th>AC/PC</th>\n",
       "      <th>AC/AT</th>\n",
       "      <th>PC/AT</th>\n",
       "      <th>PC/Receita Liq Operacional</th>\n",
       "      <th>Estoque/AT</th>\n",
       "      <th>Quick assets/AT</th>\n",
       "      <th>...</th>\n",
       "      <th>VA/IMOBILIZADO</th>\n",
       "      <th>VA/AT</th>\n",
       "      <th>VA/RLO</th>\n",
       "      <th>Contas a pagar/RLO</th>\n",
       "      <th>AC/RLO</th>\n",
       "      <th>Estoque/RLO</th>\n",
       "      <th>NOWC/RLO</th>\n",
       "      <th>Contas a receber/RLO</th>\n",
       "      <th>RLO/AT</th>\n",
       "      <th>Alvo</th>\n",
       "    </tr>\n",
       "    <tr>\n",
       "      <th>Empresa</th>\n",
       "      <th></th>\n",
       "      <th></th>\n",
       "      <th></th>\n",
       "      <th></th>\n",
       "      <th></th>\n",
       "      <th></th>\n",
       "      <th></th>\n",
       "      <th></th>\n",
       "      <th></th>\n",
       "      <th></th>\n",
       "      <th></th>\n",
       "      <th></th>\n",
       "      <th></th>\n",
       "      <th></th>\n",
       "      <th></th>\n",
       "      <th></th>\n",
       "      <th></th>\n",
       "      <th></th>\n",
       "      <th></th>\n",
       "      <th></th>\n",
       "      <th></th>\n",
       "    </tr>\n",
       "  </thead>\n",
       "  <tbody>\n",
       "    <tr>\n",
       "      <th>BOMBRIL</th>\n",
       "      <td>0.037400</td>\n",
       "      <td>0.022244</td>\n",
       "      <td>0.101842</td>\n",
       "      <td>0.029547</td>\n",
       "      <td>0.367232</td>\n",
       "      <td>0.290121</td>\n",
       "      <td>0.790021</td>\n",
       "      <td>0.594763</td>\n",
       "      <td>0.031404</td>\n",
       "      <td>0.258718</td>\n",
       "      <td>...</td>\n",
       "      <td>1.912136</td>\n",
       "      <td>0.573094</td>\n",
       "      <td>0.431451</td>\n",
       "      <td>0.095822</td>\n",
       "      <td>0.218416</td>\n",
       "      <td>0.023642</td>\n",
       "      <td>-0.112902</td>\n",
       "      <td>0.130422</td>\n",
       "      <td>1.328294</td>\n",
       "      <td>1</td>\n",
       "    </tr>\n",
       "    <tr>\n",
       "      <th>COSAN</th>\n",
       "      <td>1.644152</td>\n",
       "      <td>0.042668</td>\n",
       "      <td>0.535983</td>\n",
       "      <td>0.063081</td>\n",
       "      <td>3.067545</td>\n",
       "      <td>0.117692</td>\n",
       "      <td>0.038367</td>\n",
       "      <td>0.025951</td>\n",
       "      <td>0.012073</td>\n",
       "      <td>0.105619</td>\n",
       "      <td>...</td>\n",
       "      <td>-94.153913</td>\n",
       "      <td>-0.273755</td>\n",
       "      <td>-0.185168</td>\n",
       "      <td>0.004062</td>\n",
       "      <td>0.079607</td>\n",
       "      <td>0.008166</td>\n",
       "      <td>0.0563916</td>\n",
       "      <td>0.009919</td>\n",
       "      <td>1.478415</td>\n",
       "      <td>0</td>\n",
       "    </tr>\n",
       "    <tr>\n",
       "      <th>METALFRIO</th>\n",
       "      <td>0.714739</td>\n",
       "      <td>0.581478</td>\n",
       "      <td>0.562656</td>\n",
       "      <td>0.390647</td>\n",
       "      <td>1.270295</td>\n",
       "      <td>0.694291</td>\n",
       "      <td>0.546559</td>\n",
       "      <td>0.813553</td>\n",
       "      <td>0.154425</td>\n",
       "      <td>0.539866</td>\n",
       "      <td>...</td>\n",
       "      <td>-0.557492</td>\n",
       "      <td>-0.091249</td>\n",
       "      <td>-0.135825</td>\n",
       "      <td>0.192842</td>\n",
       "      <td>1.033452</td>\n",
       "      <td>0.229861</td>\n",
       "      <td>0.795228</td>\n",
       "      <td>0.176731</td>\n",
       "      <td>0.671817</td>\n",
       "      <td>0</td>\n",
       "    </tr>\n",
       "    <tr>\n",
       "      <th>TAESA</th>\n",
       "      <td>0.621887</td>\n",
       "      <td>0.963256</td>\n",
       "      <td>0.842059</td>\n",
       "      <td>0.172986</td>\n",
       "      <td>0.738532</td>\n",
       "      <td>0.205432</td>\n",
       "      <td>0.278163</td>\n",
       "      <td>1.548924</td>\n",
       "      <td>NaN</td>\n",
       "      <td>0.205432</td>\n",
       "      <td>...</td>\n",
       "      <td>64.438054</td>\n",
       "      <td>0.164443</td>\n",
       "      <td>0.915685</td>\n",
       "      <td>0.014210</td>\n",
       "      <td>1.143930</td>\n",
       "      <td>NaN</td>\n",
       "      <td>1.12769</td>\n",
       "      <td>0.178644</td>\n",
       "      <td>0.179584</td>\n",
       "      <td>0</td>\n",
       "    </tr>\n",
       "    <tr>\n",
       "      <th>TUPY</th>\n",
       "      <td>1.260625</td>\n",
       "      <td>0.444879</td>\n",
       "      <td>0.556159</td>\n",
       "      <td>0.265093</td>\n",
       "      <td>2.266661</td>\n",
       "      <td>0.476648</td>\n",
       "      <td>0.210287</td>\n",
       "      <td>0.352903</td>\n",
       "      <td>0.067499</td>\n",
       "      <td>0.409149</td>\n",
       "      <td>...</td>\n",
       "      <td>-0.199108</td>\n",
       "      <td>-0.066526</td>\n",
       "      <td>-0.111644</td>\n",
       "      <td>0.086110</td>\n",
       "      <td>0.799912</td>\n",
       "      <td>0.113277</td>\n",
       "      <td>0.613744</td>\n",
       "      <td>0.158185</td>\n",
       "      <td>0.595876</td>\n",
       "      <td>0</td>\n",
       "    </tr>\n",
       "  </tbody>\n",
       "</table>\n",
       "<p>5 rows × 51 columns</p>\n",
       "</div>"
      ],
      "text/plain": [
       "           Dispon/PC  Dispon/Receita Liq Operacional  Dispon/AC  Dispon/AT  \\\n",
       "Empresa                                                                      \n",
       "BOMBRIL     0.037400                        0.022244   0.101842   0.029547   \n",
       "COSAN       1.644152                        0.042668   0.535983   0.063081   \n",
       "METALFRIO   0.714739                        0.581478   0.562656   0.390647   \n",
       "TAESA       0.621887                        0.963256   0.842059   0.172986   \n",
       "TUPY        1.260625                        0.444879   0.556159   0.265093   \n",
       "\n",
       "              AC/PC     AC/AT     PC/AT  PC/Receita Liq Operacional  \\\n",
       "Empresa                                                               \n",
       "BOMBRIL    0.367232  0.290121  0.790021                    0.594763   \n",
       "COSAN      3.067545  0.117692  0.038367                    0.025951   \n",
       "METALFRIO  1.270295  0.694291  0.546559                    0.813553   \n",
       "TAESA      0.738532  0.205432  0.278163                    1.548924   \n",
       "TUPY       2.266661  0.476648  0.210287                    0.352903   \n",
       "\n",
       "           Estoque/AT  Quick assets/AT  ...  VA/IMOBILIZADO     VA/AT  \\\n",
       "Empresa                                 ...                             \n",
       "BOMBRIL      0.031404         0.258718  ...        1.912136  0.573094   \n",
       "COSAN        0.012073         0.105619  ...      -94.153913 -0.273755   \n",
       "METALFRIO    0.154425         0.539866  ...       -0.557492 -0.091249   \n",
       "TAESA             NaN         0.205432  ...       64.438054  0.164443   \n",
       "TUPY         0.067499         0.409149  ...       -0.199108 -0.066526   \n",
       "\n",
       "             VA/RLO  Contas a pagar/RLO    AC/RLO  Estoque/RLO   NOWC/RLO  \\\n",
       "Empresa                                                                     \n",
       "BOMBRIL    0.431451            0.095822  0.218416     0.023642  -0.112902   \n",
       "COSAN     -0.185168            0.004062  0.079607     0.008166  0.0563916   \n",
       "METALFRIO -0.135825            0.192842  1.033452     0.229861   0.795228   \n",
       "TAESA      0.915685            0.014210  1.143930          NaN    1.12769   \n",
       "TUPY      -0.111644            0.086110  0.799912     0.113277   0.613744   \n",
       "\n",
       "           Contas a receber/RLO    RLO/AT  Alvo  \n",
       "Empresa                                          \n",
       "BOMBRIL                0.130422  1.328294     1  \n",
       "COSAN                  0.009919  1.478415     0  \n",
       "METALFRIO              0.176731  0.671817     0  \n",
       "TAESA                  0.178644  0.179584     0  \n",
       "TUPY                   0.158185  0.595876     0  \n",
       "\n",
       "[5 rows x 51 columns]"
      ]
     },
     "execution_count": 3,
     "metadata": {},
     "output_type": "execute_result"
    }
   ],
   "source": [
    "df = dfs[list(dfs.keys())[n-1]]\n",
    "df.head()"
   ]
  },
  {
   "cell_type": "markdown",
   "metadata": {},
   "source": [
    "# Feature Engineering"
   ]
  },
  {
   "cell_type": "code",
   "execution_count": 4,
   "metadata": {},
   "outputs": [],
   "source": [
    "df.dropna(inplace = True)"
   ]
  },
  {
   "cell_type": "code",
   "execution_count": 5,
   "metadata": {},
   "outputs": [
    {
     "data": {
      "text/plain": [
       "0    31\n",
       "1    19\n",
       "Name: Alvo, dtype: int64"
      ]
     },
     "execution_count": 5,
     "metadata": {},
     "output_type": "execute_result"
    }
   ],
   "source": [
    "df[\"Alvo\"].value_counts()"
   ]
  },
  {
   "cell_type": "code",
   "execution_count": 6,
   "metadata": {},
   "outputs": [],
   "source": [
    "X = df.drop(\"Alvo\", axis = 1)\n",
    "y = df[\"Alvo\"]\n",
    "\n",
    "X_train, X_test, y_train, y_test = train_test_split(X, y, train_size = 0.7, random_state = 42)"
   ]
  },
  {
   "cell_type": "markdown",
   "metadata": {},
   "source": [
    "#### Padronização"
   ]
  },
  {
   "cell_type": "code",
   "execution_count": 7,
   "metadata": {},
   "outputs": [],
   "source": [
    "scaler = StandardScaler()\n",
    "X_train_norm = scaler.fit_transform(X_train)\n",
    "X_test_norm = scaler.transform(X_test)"
   ]
  },
  {
   "cell_type": "markdown",
   "metadata": {},
   "source": [
    "#### Análise de Componentes Principais (PCA)"
   ]
  },
  {
   "cell_type": "code",
   "execution_count": 8,
   "metadata": {},
   "outputs": [],
   "source": [
    "pca = PCA()\n",
    "X_train = pca.fit_transform(X_train_norm)\n",
    "X_test = pca.transform(X_test_norm)"
   ]
  },
  {
   "cell_type": "code",
   "execution_count": 9,
   "metadata": {},
   "outputs": [
    {
     "data": {
      "text/plain": [
       "array([0.25, 0.4 , 0.52, 0.61, 0.69, 0.74, 0.8 , 0.83, 0.86, 0.89, 0.91,\n",
       "       0.92, 0.94, 0.95, 0.96, 0.97, 0.98, 0.98, 0.99, 0.99, 0.99, 0.99,\n",
       "       1.  , 1.  , 1.  , 1.  , 1.  , 1.  , 1.  , 1.  , 1.  , 1.  , 1.  ,\n",
       "       1.  , 1.  ])"
      ]
     },
     "execution_count": 9,
     "metadata": {},
     "output_type": "execute_result"
    }
   ],
   "source": [
    "pca.explained_variance_ratio_.cumsum().round(2)"
   ]
  },
  {
   "cell_type": "markdown",
   "metadata": {},
   "source": [
    "# Modelling"
   ]
  },
  {
   "cell_type": "markdown",
   "metadata": {},
   "source": [
    "### Logistic Regression"
   ]
  },
  {
   "cell_type": "code",
   "execution_count": 10,
   "metadata": {},
   "outputs": [
    {
     "data": {
      "text/plain": [
       "LogisticRegression(max_iter=1000, random_state=42)"
      ]
     },
     "execution_count": 10,
     "metadata": {},
     "output_type": "execute_result"
    }
   ],
   "source": [
    "modelo = LogisticRegression(max_iter = 1000, random_state = 42)\n",
    "modelo.fit(X_train, y_train)"
   ]
  },
  {
   "cell_type": "code",
   "execution_count": 11,
   "metadata": {
    "scrolled": true
   },
   "outputs": [
    {
     "data": {
      "text/plain": [
       "<AxesSubplot:title={'center':'Probabilidades'}>"
      ]
     },
     "execution_count": 11,
     "metadata": {},
     "output_type": "execute_result"
    },
    {
     "data": {
      "image/png": "[encoded data removed]",
      "text/plain": [
       "<Figure size 432x288 with 1 Axes>"
      ]
     },
     "metadata": {
      "needs_background": "light"
     },
     "output_type": "display_data"
    }
   ],
   "source": [
    "y_pred = modelo.predict(X_test)\n",
    "y_pred_train = modelo.predict(X_train)\n",
    "y_pred_proba_train = modelo.predict_proba(X_train)[:,1]\n",
    "y_pred_proba = modelo.predict_proba(X_test)[:,1]\n",
    "pd.Series(y_pred_proba).plot(title = \"Probabilidades\")"
   ]
  },
  {
   "cell_type": "code",
   "execution_count": 12,
   "metadata": {},
   "outputs": [
    {
     "name": "stdout",
     "output_type": "stream",
     "text": [
      "[[21  0]\n",
      " [ 0 14]]\n",
      "\n",
      "1.0\n",
      "\n",
      "              precision    recall  f1-score   support\n",
      "\n",
      "           0       1.00      1.00      1.00        21\n",
      "           1       1.00      1.00      1.00        14\n",
      "\n",
      "    accuracy                           1.00        35\n",
      "   macro avg       1.00      1.00      1.00        35\n",
      "weighted avg       1.00      1.00      1.00        35\n",
      "\n"
     ]
    }
   ],
   "source": [
    "# Treinamento\n",
    "print(confusion_matrix(y_train, y_pred_train))\n",
    "print()\n",
    "print(accuracy_score(y_train, y_pred_train))\n",
    "print()\n",
    "print(classification_report(y_train, y_pred_train))"
   ]
  },
  {
   "cell_type": "code",
   "execution_count": 13,
   "metadata": {},
   "outputs": [
    {
     "name": "stdout",
     "output_type": "stream",
     "text": [
      "[[7 3]\n",
      " [2 3]]\n",
      "\n",
      "0.6666666666666666\n",
      "\n",
      "              precision    recall  f1-score   support\n",
      "\n",
      "           0       0.78      0.70      0.74        10\n",
      "           1       0.50      0.60      0.55         5\n",
      "\n",
      "    accuracy                           0.67        15\n",
      "   macro avg       0.64      0.65      0.64        15\n",
      "weighted avg       0.69      0.67      0.67        15\n",
      "\n"
     ]
    }
   ],
   "source": [
    "# Teste\n",
    "print(confusion_matrix(y_test, y_pred))\n",
    "print()\n",
    "print(accuracy_score(y_test, y_pred))\n",
    "print()\n",
    "print(classification_report(y_test, y_pred))"
   ]
  },
  {
   "cell_type": "code",
   "execution_count": 14,
   "metadata": {},
   "outputs": [
    {
     "name": "stdout",
     "output_type": "stream",
     "text": [
      "AUC - Teste : 0.6200000000000001\n"
     ]
    },
    {
     "data": {
      "image/png": "[encoded data removed]",
      "text/plain": [
       "<Figure size 432x288 with 1 Axes>"
      ]
     },
     "metadata": {
      "needs_background": "light"
     },
     "output_type": "display_data"
    }
   ],
   "source": [
    "# Calculando a AUC (Area Under the Curve)\n",
    "fpr, tpr, thresholds = roc_curve(y_test, y_pred_proba)\n",
    "roc_auc = auc(fpr, tpr)\n",
    "\n",
    "print(\"AUC - Teste :\", roc_auc)\n",
    "\n",
    "# Criando Curva ROC\n",
    "fpr, tpr, thresholds = roc_curve(y_test,  y_pred_proba)\n",
    "\n",
    "plt.plot([0,1], [0,1], linestyle = '--', label = 'Modelo Naive')\n",
    "plt.plot(fpr, tpr, label = 'Regressão Logística')\n",
    "plt.ylabel('True Positive Rate')\n",
    "plt.xlabel('False Positive Rate')\n",
    "plt.title(\"ROC - Receiver Operating Characteristic\")\n",
    "plt.legend()\n",
    "plt.show()"
   ]
  },
  {
   "cell_type": "code",
   "execution_count": null,
   "metadata": {},
   "outputs": [],
   "source": []
  },
  {
   "cell_type": "markdown",
   "metadata": {},
   "source": [
    "### Random Forest\n",
    "\n",
    "Hiperparâmetros a serem otimizados:\n",
    "\n",
    "* n_estimators -> número de árvores distintas estimadas (padrão: 10 -> pode ser muito pequeno)\n",
    "* max_features -> número máximo de variáveis independentes a ser considerado em cada nó das árvores de decisão (padrão: raiz quadrada da quantidade de variáveis independentes imputada ao modelo, o que é uma boa medida)"
   ]
  },
  {
   "cell_type": "code",
   "execution_count": 30,
   "metadata": {},
   "outputs": [
    {
     "name": "stdout",
     "output_type": "stream",
     "text": [
      "Melhor conjunto de parâmetros:\n",
      " {'activation': 'tanh', 'alpha': 0.0001, 'hidden_layer_sizes': (50, 50), 'learning_rate': 'constant', 'solver': 'lbfgs'}\n"
     ]
    }
   ],
   "source": [
    "modelo = RandomForestClassifier(random_state = 42)\n",
    "\n",
    "parametros = {'max_depth': [1, 5, None],\n",
    "              'min_samples_leaf': [1, 3, 5],\n",
    "              'min_samples_split': [2, 4],\n",
    "              'n_estimators': [25, 50, 100],\n",
    "              'criterion': [\"gini\", 'entropy']}\n",
    "\n",
    "modelo = GridSearchCV(modelo, parametros, n_jobs = -1, cv = 2, scoring = \"roc_auc\")\n",
    "modelo.fit(X_train, y_train)\n",
    "\n",
    "print('Melhor conjunto de parâmetros:\\n', melhor_modelo.best_params_)"
   ]
  },
  {
   "cell_type": "code",
   "execution_count": 31,
   "metadata": {},
   "outputs": [
    {
     "data": {
      "text/plain": [
       "<AxesSubplot:title={'center':'Probabilidades'}>"
      ]
     },
     "execution_count": 31,
     "metadata": {},
     "output_type": "execute_result"
    },
    {
     "data": {
      "image/png": "[encoded data removed]",
      "text/plain": [
       "<Figure size 432x288 with 1 Axes>"
      ]
     },
     "metadata": {
      "needs_background": "light"
     },
     "output_type": "display_data"
    }
   ],
   "source": [
    "y_pred = modelo.predict(X_test)\n",
    "y_pred_train = modelo.predict(X_train)\n",
    "y_pred_proba = modelo.predict_proba(X_test)[:,1]\n",
    "pd.Series(y_pred_proba).plot(title = \"Probabilidades\")"
   ]
  },
  {
   "cell_type": "code",
   "execution_count": 32,
   "metadata": {},
   "outputs": [
    {
     "name": "stdout",
     "output_type": "stream",
     "text": [
      "[[21  0]\n",
      " [ 0 14]]\n",
      "\n",
      "1.0\n",
      "\n",
      "              precision    recall  f1-score   support\n",
      "\n",
      "           0       1.00      1.00      1.00        21\n",
      "           1       1.00      1.00      1.00        14\n",
      "\n",
      "    accuracy                           1.00        35\n",
      "   macro avg       1.00      1.00      1.00        35\n",
      "weighted avg       1.00      1.00      1.00        35\n",
      "\n"
     ]
    }
   ],
   "source": [
    "# Treinamento\n",
    "print(confusion_matrix(y_train, y_pred_train))\n",
    "print()\n",
    "print(accuracy_score(y_train, y_pred_train))\n",
    "print()\n",
    "print(classification_report(y_train, y_pred_train))"
   ]
  },
  {
   "cell_type": "code",
   "execution_count": 33,
   "metadata": {},
   "outputs": [
    {
     "name": "stdout",
     "output_type": "stream",
     "text": [
      "[[10  0]\n",
      " [ 3  2]]\n",
      "\n",
      "0.8\n",
      "\n",
      "              precision    recall  f1-score   support\n",
      "\n",
      "           0       0.77      1.00      0.87        10\n",
      "           1       1.00      0.40      0.57         5\n",
      "\n",
      "    accuracy                           0.80        15\n",
      "   macro avg       0.88      0.70      0.72        15\n",
      "weighted avg       0.85      0.80      0.77        15\n",
      "\n"
     ]
    }
   ],
   "source": [
    "# Teste\n",
    "print(confusion_matrix(y_test, y_pred))\n",
    "print()\n",
    "print(accuracy_score(y_test, y_pred))\n",
    "print()\n",
    "print(classification_report(y_test, y_pred))"
   ]
  },
  {
   "cell_type": "code",
   "execution_count": 34,
   "metadata": {},
   "outputs": [
    {
     "name": "stdout",
     "output_type": "stream",
     "text": [
      "AUC - Teste : 0.8599999999999999\n"
     ]
    },
    {
     "data": {
      "image/png": "[encoded data removed]",
      "text/plain": [
       "<Figure size 432x288 with 1 Axes>"
      ]
     },
     "metadata": {
      "needs_background": "light"
     },
     "output_type": "display_data"
    }
   ],
   "source": [
    "# Calculando a AUC (Area Under the Curve)\n",
    "fpr, tpr, thresholds = roc_curve(y_test, y_pred_proba)\n",
    "roc_auc = auc(fpr, tpr)\n",
    "\n",
    "print(\"AUC - Teste :\", roc_auc)\n",
    "\n",
    "# Criando Curva ROC\n",
    "fpr, tpr, thresholds = roc_curve(y_test,  y_pred_proba)\n",
    "\n",
    "plt.plot([0,1], [0,1], linestyle = '--', label = 'Modelo Naive')\n",
    "plt.plot(fpr, tpr, label = 'Rede Neural')\n",
    "plt.ylabel('True Positive Rate')\n",
    "plt.xlabel('False Positive Rate')\n",
    "plt.title(\"ROC - Receiver Operating Characteristic\")\n",
    "plt.legend()\n",
    "plt.show()"
   ]
  },
  {
   "cell_type": "markdown",
   "metadata": {},
   "source": [
    "### Neural Network\n",
    "\n",
    "Hiperparâmetros a serem otimizados:\n",
    "\n",
    "* hidden_layer_sizes -> tupla contendo o número de neurônios dentro de cada camada (padrão: uma camada de 100 neurons)\n",
    "* max_iter -> número máximo de iterações a serem realizadas pelo método de backpropagation\n",
    "* alpha -> o valor máximo de alteração dos coeficientes em cada iteração, para minimizar a função de custo (padrão: 0.0001)\n",
    "* solver -> Algoritmo utilizado para encontrar a solução ótima, cujo tempo de obtenção da resposta varia. Opções: 'lbfgs', 'sgd' e 'adam'."
   ]
  },
  {
   "cell_type": "code",
   "execution_count": 25,
   "metadata": {},
   "outputs": [
    {
     "name": "stdout",
     "output_type": "stream",
     "text": [
      "Melhor conjunto de parâmetros:\n",
      " {'activation': 'tanh', 'alpha': 0.0001, 'hidden_layer_sizes': (50, 50), 'learning_rate': 'constant', 'solver': 'lbfgs'}\n"
     ]
    },
    {
     "name": "stderr",
     "output_type": "stream",
     "text": [
      "C:\\Users\\brunomarcelino\\Anaconda3\\lib\\site-packages\\sklearn\\neural_network\\_multilayer_perceptron.py:692: ConvergenceWarning: Stochastic Optimizer: Maximum iterations (100) reached and the optimization hasn't converged yet.\n",
      "  warnings.warn(\n"
     ]
    }
   ],
   "source": [
    "modelo = MLPClassifier(max_iter = 100, random_state = 42)\n",
    "\n",
    "parametros = {'hidden_layer_sizes': [(50,50), (50,100,50), (100,)],\n",
    "              'activation': ['tanh', 'relu'],\n",
    "              'solver': ['sgd', 'adam', \"lbfgs\"],\n",
    "              'alpha': [0.0001, 0.05],\n",
    "              'learning_rate': ['constant','adaptive']}\n",
    "\n",
    "modelo = GridSearchCV(modelo, parametros, n_jobs = -1, cv = 2, scoring = \"roc_auc\")\n",
    "modelo.fit(X_train, y_train)\n",
    "\n",
    "print('Melhor conjunto de parâmetros:\\n', melhor_modelo.best_params_)"
   ]
  },
  {
   "cell_type": "code",
   "execution_count": 26,
   "metadata": {},
   "outputs": [
    {
     "data": {
      "text/plain": [
       "<AxesSubplot:title={'center':'Probabilidades'}>"
      ]
     },
     "execution_count": 26,
     "metadata": {},
     "output_type": "execute_result"
    },
    {
     "data": {
      "image/png": "[encoded data removed]",
      "text/plain": [
       "<Figure size 432x288 with 1 Axes>"
      ]
     },
     "metadata": {
      "needs_background": "light"
     },
     "output_type": "display_data"
    }
   ],
   "source": [
    "y_pred = modelo.predict(X_test)\n",
    "y_pred_train = modelo.predict(X_train)\n",
    "y_pred_proba = modelo.predict_proba(X_test)[:,1]\n",
    "pd.Series(y_pred_proba).plot(title = \"Probabilidades\")"
   ]
  },
  {
   "cell_type": "code",
   "execution_count": 27,
   "metadata": {},
   "outputs": [
    {
     "name": "stdout",
     "output_type": "stream",
     "text": [
      "[[21  0]\n",
      " [ 0 14]]\n",
      "\n",
      "1.0\n",
      "\n",
      "              precision    recall  f1-score   support\n",
      "\n",
      "           0       1.00      1.00      1.00        21\n",
      "           1       1.00      1.00      1.00        14\n",
      "\n",
      "    accuracy                           1.00        35\n",
      "   macro avg       1.00      1.00      1.00        35\n",
      "weighted avg       1.00      1.00      1.00        35\n",
      "\n"
     ]
    }
   ],
   "source": [
    "# Treinamento\n",
    "print(confusion_matrix(y_train, y_pred_train))\n",
    "print()\n",
    "print(accuracy_score(y_train, y_pred_train))\n",
    "print()\n",
    "print(classification_report(y_train, y_pred_train))"
   ]
  },
  {
   "cell_type": "code",
   "execution_count": 28,
   "metadata": {},
   "outputs": [
    {
     "name": "stdout",
     "output_type": "stream",
     "text": [
      "[[7 3]\n",
      " [2 3]]\n",
      "\n",
      "0.6666666666666666\n",
      "\n",
      "              precision    recall  f1-score   support\n",
      "\n",
      "           0       0.78      0.70      0.74        10\n",
      "           1       0.50      0.60      0.55         5\n",
      "\n",
      "    accuracy                           0.67        15\n",
      "   macro avg       0.64      0.65      0.64        15\n",
      "weighted avg       0.69      0.67      0.67        15\n",
      "\n"
     ]
    }
   ],
   "source": [
    "# Teste\n",
    "print(confusion_matrix(y_test, y_pred))\n",
    "print()\n",
    "print(accuracy_score(y_test, y_pred))\n",
    "print()\n",
    "print(classification_report(y_test, y_pred))"
   ]
  },
  {
   "cell_type": "code",
   "execution_count": 29,
   "metadata": {},
   "outputs": [
    {
     "name": "stdout",
     "output_type": "stream",
     "text": [
      "AUC - Teste : 0.76\n"
     ]
    },
    {
     "data": {
      "image/png": "[encoded data removed]",
      "text/plain": [
       "<Figure size 432x288 with 1 Axes>"
      ]
     },
     "metadata": {
      "needs_background": "light"
     },
     "output_type": "display_data"
    }
   ],
   "source": [
    "# Calculando a AUC (Area Under the Curve)\n",
    "fpr, tpr, thresholds = roc_curve(y_test, y_pred_proba)\n",
    "roc_auc = auc(fpr, tpr)\n",
    "\n",
    "print(\"AUC - Teste :\", roc_auc)\n",
    "\n",
    "# Criando Curva ROC\n",
    "fpr, tpr, thresholds = roc_curve(y_test,  y_pred_proba)\n",
    "\n",
    "plt.plot([0,1], [0,1], linestyle = '--', label = 'Modelo Naive')\n",
    "plt.plot(fpr, tpr, label = 'Rede Neural')\n",
    "plt.ylabel('True Positive Rate')\n",
    "plt.xlabel('False Positive Rate')\n",
    "plt.title(\"ROC - Receiver Operating Characteristic\")\n",
    "plt.legend()\n",
    "plt.show()"
   ]
  },
  {
   "cell_type": "code",
   "execution_count": 24,
   "metadata": {},
   "outputs": [
    {
     "ename": "AttributeError",
     "evalue": "'GridSearchCV' object has no attribute 'loss_curve_'",
     "output_type": "error",
     "traceback": [
      "\u001b[1;31m---------------------------------------------------------------------------\u001b[0m",
      "\u001b[1;31mAttributeError\u001b[0m                            Traceback (most recent call last)",
      "Input \u001b[1;32mIn [24]\u001b[0m, in \u001b[0;36m<cell line: 2>\u001b[1;34m()\u001b[0m\n\u001b[0;32m      1\u001b[0m \u001b[38;5;66;03m# Curva de Custo\u001b[39;00m\n\u001b[1;32m----> 2\u001b[0m pd\u001b[38;5;241m.\u001b[39mSeries(\u001b[43mmodelo\u001b[49m\u001b[38;5;241;43m.\u001b[39;49m\u001b[43mloss_curve_\u001b[49m)\u001b[38;5;241m.\u001b[39mplot(title \u001b[38;5;241m=\u001b[39m \u001b[38;5;124m\"\u001b[39m\u001b[38;5;124mLoss Curve\u001b[39m\u001b[38;5;124m\"\u001b[39m)\n",
      "\u001b[1;31mAttributeError\u001b[0m: 'GridSearchCV' object has no attribute 'loss_curve_'"
     ]
    }
   ],
   "source": [
    "# Curva de Custo\n",
    "pd.Series(modelo.loss_curve_).plot(title = \"Loss Curve\")"
   ]
  },
  {
   "cell_type": "code",
   "execution_count": null,
   "metadata": {},
   "outputs": [],
   "source": []
  }
 ],
 "metadata": {
  "kernelspec": {
   "display_name": "Python 3",
   "language": "python",
   "name": "python3"
  },
  "language_info": {
   "codemirror_mode": {
    "name": "ipython",
    "version": 3
   },
   "file_extension": ".py",
   "mimetype": "text/x-python",
   "name": "python",
   "nbconvert_exporter": "python",
   "pygments_lexer": "ipython3",
   "version": "3.8.5"
  },
  "vscode": {
   "interpreter": {
    "hash": "72bf47092338eed38b0780b83b91fd9a109f9b0b6603c4f71c3497fbd9ba9af9"
   }
  }
 },
 "nbformat": 4,
 "nbformat_minor": 4
}
