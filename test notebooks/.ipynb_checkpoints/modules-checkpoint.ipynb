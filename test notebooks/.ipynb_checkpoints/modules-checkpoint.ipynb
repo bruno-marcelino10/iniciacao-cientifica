{
 "cells": [
  {
   "cell_type": "code",
   "execution_count": null,
   "metadata": {},
   "outputs": [],
   "source": [
    "import pandas as pd\n",
    "\n",
    "def get_data()\n",
    "    #Features\n",
    "    sheet_id = \"1xOPRcRkJrGzxb65dieEHrWHnqXYrrSpx7Ack3pr6Pdw\"\n",
    "    features = pd.read_excel(f\"https://docs.google.com/spreadsheets/d/{sheet_id}/export?format=xlsx\", sheet_name = None)\n",
    "\n",
    "    #Targets\n",
    "    sheet_id = \"116cM2eSTve3UHHYESOdWXRiYxx8gGAPPLlonNDNIn6M\"\n",
    "    target = pd.read_excel(f\"https://docs.google.com/spreadsheets/d/{sheet_id}/export?format=xlsx\")\n",
    "\n",
    "    res = 0\n",
    "    for i in list(features.keys()):\n",
    "        if i in list(target[\"Empresa\"].values):\n",
    "            res += 1\n",
    "\n",
    "    #Validation\n",
    "    val = res == len(features.keys())"
   ]
  }
 ],
 "metadata": {
  "kernelspec": {
   "display_name": "Python 3 (ipykernel)",
   "language": "python",
   "name": "python3"
  },
  "language_info": {
   "codemirror_mode": {
    "name": "ipython",
    "version": 3
   },
   "file_extension": ".py",
   "mimetype": "text/x-python",
   "name": "python",
   "nbconvert_exporter": "python",
   "pygments_lexer": "ipython3",
   "version": "3.8.5"
  }
 },
 "nbformat": 4,
 "nbformat_minor": 4
}
