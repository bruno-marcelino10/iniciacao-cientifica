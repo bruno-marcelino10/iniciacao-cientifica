{
 "cells": [
  {
   "cell_type": "markdown",
   "metadata": {},
   "source": [
    "#### Importing libs"
   ]
  },
  {
   "cell_type": "code",
   "execution_count": 1,
   "metadata": {},
   "outputs": [],
   "source": [
    "import pandas as pd"
   ]
  },
  {
   "cell_type": "markdown",
   "metadata": {},
   "source": [
    "# Data Import"
   ]
  },
  {
   "cell_type": "markdown",
   "metadata": {},
   "source": [
    "##### Importing features"
   ]
  },
  {
   "cell_type": "code",
   "execution_count": 10,
   "metadata": {},
   "outputs": [
    {
     "name": "stdout",
     "output_type": "stream",
     "text": [
      "dict_keys(['BOMBRIL', 'ENEVA', 'ETERNIT', 'EUCATEX', 'FER HERINGER', 'GPC PART', 'LUPATECH', 'MMX MINER', 'OI', 'OSX BRASIL', 'PDG REALT', 'PET MANGUINHOS', 'POMIFRUTAS', 'RECRUSUL', 'REDE ENERGIA', 'SANSUY', 'SARAIVA', 'TECNOSOLO', 'TEKA', 'VIVER', 'WETZEL', 'BRASKEM', 'CEMIG', 'DURATEX', 'EZTEC', 'INDS ROMI', 'LITEL', 'MARCOPOLO', 'METAL IGUAÇU', 'SLC AGRICOLA', 'SONDOTECNICA', 'ULTRAPAR'])\n",
      "\n",
      " 32\n"
     ]
    }
   ],
   "source": [
    "sheet_id = \"1xOPRcRkJrGzxb65dieEHrWHnqXYrrSpx7Ack3pr6Pdw\"\n",
    "features = pd.read_excel(f\"https://docs.google.com/spreadsheets/d/{sheet_id}/export?format=xlsx\", sheet_name = None)\n",
    "print(features.keys()) # Empresas"
   ]
  },
  {
   "cell_type": "markdown",
   "metadata": {},
   "source": [
    "##### Importing targets"
   ]
  },
  {
   "cell_type": "code",
   "execution_count": 18,
   "metadata": {},
   "outputs": [
    {
     "data": {
      "text/html": [
       "<div>\n",
       "<style scoped>\n",
       "    .dataframe tbody tr th:only-of-type {\n",
       "        vertical-align: middle;\n",
       "    }\n",
       "\n",
       "    .dataframe tbody tr th {\n",
       "        vertical-align: top;\n",
       "    }\n",
       "\n",
       "    .dataframe thead th {\n",
       "        text-align: right;\n",
       "    }\n",
       "</style>\n",
       "<table border=\"1\" class=\"dataframe\">\n",
       "  <thead>\n",
       "    <tr style=\"text-align: right;\">\n",
       "      <th></th>\n",
       "      <th>Empresa</th>\n",
       "      <th>Ticker</th>\n",
       "      <th>Setor</th>\n",
       "      <th>Classificação</th>\n",
       "    </tr>\n",
       "  </thead>\n",
       "  <tbody>\n",
       "    <tr>\n",
       "      <th>0</th>\n",
       "      <td>BOMBRIL</td>\n",
       "      <td>BOBR</td>\n",
       "      <td>Consumo não Cíclico</td>\n",
       "      <td>Recuperação Judicial</td>\n",
       "    </tr>\n",
       "    <tr>\n",
       "      <th>1</th>\n",
       "      <td>DOMMO</td>\n",
       "      <td>DMMO</td>\n",
       "      <td>Petróleo, Gás e Biocombustíveis</td>\n",
       "      <td>Recuperação Judicial</td>\n",
       "    </tr>\n",
       "    <tr>\n",
       "      <th>2</th>\n",
       "      <td>ENEVA</td>\n",
       "      <td>ENEV</td>\n",
       "      <td>Utilidade Pública</td>\n",
       "      <td>Recuperação Judicial</td>\n",
       "    </tr>\n",
       "    <tr>\n",
       "      <th>3</th>\n",
       "      <td>ETERNIT</td>\n",
       "      <td>ETER</td>\n",
       "      <td>Bens Industriais</td>\n",
       "      <td>Recuperação Judicial</td>\n",
       "    </tr>\n",
       "    <tr>\n",
       "      <th>4</th>\n",
       "      <td>EUCATEX</td>\n",
       "      <td>EUCA</td>\n",
       "      <td>Materiais Básicos</td>\n",
       "      <td>Recuperação Judicial</td>\n",
       "    </tr>\n",
       "  </tbody>\n",
       "</table>\n",
       "</div>"
      ],
      "text/plain": [
       "   Empresa Ticker                            Setor         Classificação\n",
       "0  BOMBRIL   BOBR              Consumo não Cíclico  Recuperação Judicial\n",
       "1    DOMMO   DMMO  Petróleo, Gás e Biocombustíveis  Recuperação Judicial\n",
       "2    ENEVA   ENEV                Utilidade Pública  Recuperação Judicial\n",
       "3  ETERNIT   ETER                 Bens Industriais  Recuperação Judicial\n",
       "4  EUCATEX   EUCA                Materiais Básicos  Recuperação Judicial"
      ]
     },
     "execution_count": 18,
     "metadata": {},
     "output_type": "execute_result"
    }
   ],
   "source": [
    "sheet_id = \"116cM2eSTve3UHHYESOdWXRiYxx8gGAPPLlonNDNIn6M\"\n",
    "target = pd.read_excel(f\"https://docs.google.com/spreadsheets/d/{sheet_id}/export?format=xlsx\")\n",
    "target.head()"
   ]
  },
  {
   "cell_type": "markdown",
   "metadata": {},
   "source": [
    "##### Validation"
   ]
  },
  {
   "cell_type": "code",
   "execution_count": 24,
   "metadata": {},
   "outputs": [
    {
     "name": "stdout",
     "output_type": "stream",
     "text": [
      "Número de Empresas (Target): 32\n",
      "Número de Empresas (Features) 32\n"
     ]
    }
   ],
   "source": [
    "res = 0\n",
    "for i in list(features.keys()):\n",
    "    if i in list(target[\"Empresa\"].values):\n",
    "        res += 1\n",
    "print(\"Número de Empresas (Target):\", res)\n",
    "print(\"Número de Empresas (Features)\", len(features.keys())) # Numero de empresas"
   ]
  },
  {
   "cell_type": "markdown",
   "metadata": {},
   "source": [
    "# Data Wrangling"
   ]
  },
  {
   "cell_type": "code",
   "execution_count": null,
   "metadata": {},
   "outputs": [],
   "source": []
  }
 ],
 "metadata": {
  "kernelspec": {
   "display_name": "Python 3 (ipykernel)",
   "language": "python",
   "name": "python3"
  },
  "language_info": {
   "codemirror_mode": {
    "name": "ipython",
    "version": 3
   },
   "file_extension": ".py",
   "mimetype": "text/x-python",
   "name": "python",
   "nbconvert_exporter": "python",
   "pygments_lexer": "ipython3",
   "version": "3.8.5"
  }
 },
 "nbformat": 4,
 "nbformat_minor": 4
}
