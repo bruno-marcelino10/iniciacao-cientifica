{
 "cells": [
  {
   "cell_type": "markdown",
   "metadata": {},
   "source": [
    "# Feature Import"
   ]
  },
  {
   "cell_type": "code",
   "execution_count": 1,
   "metadata": {},
   "outputs": [],
   "source": [
    "# Manipulação de Dados\n",
    "import pandas as pd\n",
    "import numpy as np\n",
    "import matplotlib.pyplot as plt\n",
    "\n",
    "# Métricas de Avaliação: Classificação\n",
    "from sklearn.model_selection import train_test_split\n",
    "from sklearn.metrics import classification_report, confusion_matrix, accuracy_score, roc_curve, auc, RocCurveDisplay\n",
    "\n",
    "# Modelos Utilizados\n",
    "from sklearn.ensemble import RandomForestClassifier\n",
    "from sklearn.linear_model import LogisticRegression\n",
    "from sklearn.neural_network import MLPClassifier"
   ]
  },
  {
   "cell_type": "code",
   "execution_count": 25,
   "metadata": {},
   "outputs": [
    {
     "name": "stdout",
     "output_type": "stream",
     "text": [
      "DataFrames disponíveis:  ['df_1y', 'df_2y', 'df_3y', 'df_4y', 'df_5y']\n",
      "\n",
      "Selecione dados de 1 a 5 anos pré-falência: 1\n"
     ]
    }
   ],
   "source": [
    "dfs = pd.read_excel(\"../data/dados.xlsx\", sheet_name = None, index_col = \"Empresa\")\n",
    "print(\"DataFrames disponíveis: \", list(dfs.keys())) # representam indicadores de anos antes da falência\n",
    "\n",
    "n = int(input(\"\\nSelecione dados de 1 a 5 anos pré-falência: \"))"
   ]
  },
  {
   "cell_type": "code",
   "execution_count": 28,
   "metadata": {},
   "outputs": [
    {
     "data": {
      "text/html": [
       "<div>\n",
       "<style scoped>\n",
       "    .dataframe tbody tr th:only-of-type {\n",
       "        vertical-align: middle;\n",
       "    }\n",
       "\n",
       "    .dataframe tbody tr th {\n",
       "        vertical-align: top;\n",
       "    }\n",
       "\n",
       "    .dataframe thead th {\n",
       "        text-align: right;\n",
       "    }\n",
       "</style>\n",
       "<table border=\"1\" class=\"dataframe\">\n",
       "  <thead>\n",
       "    <tr style=\"text-align: right;\">\n",
       "      <th></th>\n",
       "      <th>Dispon/PC</th>\n",
       "      <th>Dispon/Receita Liq Operacional</th>\n",
       "      <th>Dispon/AC</th>\n",
       "      <th>Dispon/AT</th>\n",
       "      <th>AC/PC</th>\n",
       "      <th>AC/AT</th>\n",
       "      <th>PC/AT</th>\n",
       "      <th>PC/Receita Liq Operacional</th>\n",
       "      <th>Estoque/AT</th>\n",
       "      <th>Quick assets/AT</th>\n",
       "      <th>...</th>\n",
       "      <th>VA/IMOBILIZADO</th>\n",
       "      <th>VA/AT</th>\n",
       "      <th>VA/RLO</th>\n",
       "      <th>Contas a pagar/RLO</th>\n",
       "      <th>AC/RLO</th>\n",
       "      <th>Estoque/RLO</th>\n",
       "      <th>NOWC/RLO</th>\n",
       "      <th>Contas a receber/RLO</th>\n",
       "      <th>RLO/AT</th>\n",
       "      <th>Alvo</th>\n",
       "    </tr>\n",
       "    <tr>\n",
       "      <th>Empresa</th>\n",
       "      <th></th>\n",
       "      <th></th>\n",
       "      <th></th>\n",
       "      <th></th>\n",
       "      <th></th>\n",
       "      <th></th>\n",
       "      <th></th>\n",
       "      <th></th>\n",
       "      <th></th>\n",
       "      <th></th>\n",
       "      <th></th>\n",
       "      <th></th>\n",
       "      <th></th>\n",
       "      <th></th>\n",
       "      <th></th>\n",
       "      <th></th>\n",
       "      <th></th>\n",
       "      <th></th>\n",
       "      <th></th>\n",
       "      <th></th>\n",
       "      <th></th>\n",
       "    </tr>\n",
       "  </thead>\n",
       "  <tbody>\n",
       "    <tr>\n",
       "      <th>BOMBRIL</th>\n",
       "      <td>0.037400</td>\n",
       "      <td>0.022244</td>\n",
       "      <td>0.101842</td>\n",
       "      <td>0.029547</td>\n",
       "      <td>0.367232</td>\n",
       "      <td>0.290121</td>\n",
       "      <td>0.790021</td>\n",
       "      <td>0.594763</td>\n",
       "      <td>0.031404</td>\n",
       "      <td>0.258718</td>\n",
       "      <td>...</td>\n",
       "      <td>1.912136</td>\n",
       "      <td>0.573094</td>\n",
       "      <td>0.431451</td>\n",
       "      <td>0.095822</td>\n",
       "      <td>0.218416</td>\n",
       "      <td>0.023642</td>\n",
       "      <td>-0.112902</td>\n",
       "      <td>0.130422</td>\n",
       "      <td>1.328294</td>\n",
       "      <td>1</td>\n",
       "    </tr>\n",
       "    <tr>\n",
       "      <th>COSAN</th>\n",
       "      <td>1.644152</td>\n",
       "      <td>0.042668</td>\n",
       "      <td>0.535983</td>\n",
       "      <td>0.063081</td>\n",
       "      <td>3.067545</td>\n",
       "      <td>0.117692</td>\n",
       "      <td>0.038367</td>\n",
       "      <td>0.025951</td>\n",
       "      <td>0.012073</td>\n",
       "      <td>0.105619</td>\n",
       "      <td>...</td>\n",
       "      <td>-94.153913</td>\n",
       "      <td>-0.273755</td>\n",
       "      <td>-0.185168</td>\n",
       "      <td>0.004062</td>\n",
       "      <td>0.079607</td>\n",
       "      <td>0.008166</td>\n",
       "      <td>0.0563916</td>\n",
       "      <td>0.009919</td>\n",
       "      <td>1.478415</td>\n",
       "      <td>0</td>\n",
       "    </tr>\n",
       "    <tr>\n",
       "      <th>TUPY</th>\n",
       "      <td>1.260625</td>\n",
       "      <td>0.444879</td>\n",
       "      <td>0.556159</td>\n",
       "      <td>0.265093</td>\n",
       "      <td>2.266661</td>\n",
       "      <td>0.476648</td>\n",
       "      <td>0.210287</td>\n",
       "      <td>0.352903</td>\n",
       "      <td>0.067499</td>\n",
       "      <td>0.409149</td>\n",
       "      <td>...</td>\n",
       "      <td>-0.199108</td>\n",
       "      <td>-0.066526</td>\n",
       "      <td>-0.111644</td>\n",
       "      <td>0.086110</td>\n",
       "      <td>0.799912</td>\n",
       "      <td>0.113277</td>\n",
       "      <td>0.613744</td>\n",
       "      <td>0.158185</td>\n",
       "      <td>0.595876</td>\n",
       "      <td>0</td>\n",
       "    </tr>\n",
       "    <tr>\n",
       "      <th>JHSF</th>\n",
       "      <td>0.120848</td>\n",
       "      <td>0.302694</td>\n",
       "      <td>0.131172</td>\n",
       "      <td>0.029345</td>\n",
       "      <td>0.921291</td>\n",
       "      <td>0.223713</td>\n",
       "      <td>0.242825</td>\n",
       "      <td>2.504754</td>\n",
       "      <td>0.011262</td>\n",
       "      <td>0.212451</td>\n",
       "      <td>...</td>\n",
       "      <td>0.251439</td>\n",
       "      <td>0.024086</td>\n",
       "      <td>0.248451</td>\n",
       "      <td>0.153724</td>\n",
       "      <td>2.307607</td>\n",
       "      <td>0.116165</td>\n",
       "      <td>0.742789</td>\n",
       "      <td>0.477655</td>\n",
       "      <td>0.096946</td>\n",
       "      <td>0</td>\n",
       "    </tr>\n",
       "    <tr>\n",
       "      <th>KLABIN</th>\n",
       "      <td>1.533708</td>\n",
       "      <td>0.593607</td>\n",
       "      <td>0.565686</td>\n",
       "      <td>0.182988</td>\n",
       "      <td>2.711236</td>\n",
       "      <td>0.323480</td>\n",
       "      <td>0.119311</td>\n",
       "      <td>0.387041</td>\n",
       "      <td>0.033246</td>\n",
       "      <td>0.290234</td>\n",
       "      <td>...</td>\n",
       "      <td>0.011016</td>\n",
       "      <td>0.006816</td>\n",
       "      <td>0.022112</td>\n",
       "      <td>0.075016</td>\n",
       "      <td>1.049359</td>\n",
       "      <td>0.107850</td>\n",
       "      <td>0.875408</td>\n",
       "      <td>0.248967</td>\n",
       "      <td>0.308265</td>\n",
       "      <td>0</td>\n",
       "    </tr>\n",
       "  </tbody>\n",
       "</table>\n",
       "<p>5 rows × 51 columns</p>\n",
       "</div>"
      ],
      "text/plain": [
       "         Dispon/PC  Dispon/Receita Liq Operacional  Dispon/AC  Dispon/AT  \\\n",
       "Empresa                                                                    \n",
       "BOMBRIL   0.037400                        0.022244   0.101842   0.029547   \n",
       "COSAN     1.644152                        0.042668   0.535983   0.063081   \n",
       "TUPY      1.260625                        0.444879   0.556159   0.265093   \n",
       "JHSF      0.120848                        0.302694   0.131172   0.029345   \n",
       "KLABIN    1.533708                        0.593607   0.565686   0.182988   \n",
       "\n",
       "            AC/PC     AC/AT     PC/AT  PC/Receita Liq Operacional  Estoque/AT  \\\n",
       "Empresa                                                                         \n",
       "BOMBRIL  0.367232  0.290121  0.790021                    0.594763    0.031404   \n",
       "COSAN    3.067545  0.117692  0.038367                    0.025951    0.012073   \n",
       "TUPY     2.266661  0.476648  0.210287                    0.352903    0.067499   \n",
       "JHSF     0.921291  0.223713  0.242825                    2.504754    0.011262   \n",
       "KLABIN   2.711236  0.323480  0.119311                    0.387041    0.033246   \n",
       "\n",
       "         Quick assets/AT  ...  VA/IMOBILIZADO     VA/AT    VA/RLO  \\\n",
       "Empresa                   ...                                       \n",
       "BOMBRIL         0.258718  ...        1.912136  0.573094  0.431451   \n",
       "COSAN           0.105619  ...      -94.153913 -0.273755 -0.185168   \n",
       "TUPY            0.409149  ...       -0.199108 -0.066526 -0.111644   \n",
       "JHSF            0.212451  ...        0.251439  0.024086  0.248451   \n",
       "KLABIN          0.290234  ...        0.011016  0.006816  0.022112   \n",
       "\n",
       "         Contas a pagar/RLO    AC/RLO  Estoque/RLO   NOWC/RLO  \\\n",
       "Empresa                                                         \n",
       "BOMBRIL            0.095822  0.218416     0.023642  -0.112902   \n",
       "COSAN              0.004062  0.079607     0.008166  0.0563916   \n",
       "TUPY               0.086110  0.799912     0.113277   0.613744   \n",
       "JHSF               0.153724  2.307607     0.116165   0.742789   \n",
       "KLABIN             0.075016  1.049359     0.107850   0.875408   \n",
       "\n",
       "         Contas a receber/RLO    RLO/AT  Alvo  \n",
       "Empresa                                        \n",
       "BOMBRIL              0.130422  1.328294     1  \n",
       "COSAN                0.009919  1.478415     0  \n",
       "TUPY                 0.158185  0.595876     0  \n",
       "JHSF                 0.477655  0.096946     0  \n",
       "KLABIN               0.248967  0.308265     0  \n",
       "\n",
       "[5 rows x 51 columns]"
      ]
     },
     "execution_count": 28,
     "metadata": {},
     "output_type": "execute_result"
    }
   ],
   "source": [
    "df = dfs[list(dfs.keys())[0]]\n",
    "df.head()"
   ]
  },
  {
   "cell_type": "markdown",
   "metadata": {},
   "source": [
    "# Feature Engineering"
   ]
  },
  {
   "cell_type": "code",
   "execution_count": null,
   "metadata": {},
   "outputs": [],
   "source": [
    "df.dropna(inplace = True)"
   ]
  },
  {
   "cell_type": "code",
   "execution_count": 37,
   "metadata": {},
   "outputs": [],
   "source": [
    "from sklearn.model_selection import train_test_split\n",
    "\n",
    "X = df.drop(\"Alvo\", axis = 1)\n",
    "y = df[\"Alvo\"]\n",
    "\n",
    "X_train, X_test, y_train, y_test = train_test_split(X, y, random_state = 42)"
   ]
  },
  {
   "cell_type": "markdown",
   "metadata": {},
   "source": [
    "# Modelling"
   ]
  },
  {
   "cell_type": "markdown",
   "metadata": {},
   "source": [
    "### Logistic Regression"
   ]
  },
  {
   "cell_type": "code",
   "execution_count": 102,
   "metadata": {},
   "outputs": [
    {
     "data": {
      "text/plain": [
       "LogisticRegression(max_iter=1000, random_state=42)"
      ]
     },
     "execution_count": 102,
     "metadata": {},
     "output_type": "execute_result"
    }
   ],
   "source": [
    "modelo = LogisticRegression(max_iter = 1000, random_state = 42)\n",
    "modelo.fit(X_train, y_train)"
   ]
  },
  {
   "cell_type": "code",
   "execution_count": 103,
   "metadata": {
    "scrolled": true
   },
   "outputs": [
    {
     "data": {
      "text/plain": [
       "<AxesSubplot:title={'center':'Probabilidades'}>"
      ]
     },
     "execution_count": 103,
     "metadata": {},
     "output_type": "execute_result"
    },
    {
     "data": {
      "image/png": "[encoded data removed]",
      "text/plain": [
       "<Figure size 432x288 with 1 Axes>"
      ]
     },
     "metadata": {
      "needs_background": "light"
     },
     "output_type": "display_data"
    }
   ],
   "source": [
    "y_pred = modelo.predict(X_test)\n",
    "y_pred_train = modelo.predict(X_train)\n",
    "y_pred_proba = modelo.predict_proba(X_test)[:,1]\n",
    "pd.Series(y_pred_proba).plot(title = \"Probabilidades\")"
   ]
  },
  {
   "cell_type": "code",
   "execution_count": 104,
   "metadata": {},
   "outputs": [
    {
     "name": "stdout",
     "output_type": "stream",
     "text": [
      "[[23  0]\n",
      " [ 0 14]]\n",
      "\n",
      "1.0\n",
      "\n",
      "              precision    recall  f1-score   support\n",
      "\n",
      "           0       1.00      1.00      1.00        23\n",
      "           1       1.00      1.00      1.00        14\n",
      "\n",
      "    accuracy                           1.00        37\n",
      "   macro avg       1.00      1.00      1.00        37\n",
      "weighted avg       1.00      1.00      1.00        37\n",
      "\n"
     ]
    }
   ],
   "source": [
    "# Treinamento\n",
    "print(confusion_matrix(y_train, y_pred_train))\n",
    "print()\n",
    "print(accuracy_score(y_train, y_pred_train))\n",
    "print()\n",
    "print(classification_report(y_train, y_pred_train))"
   ]
  },
  {
   "cell_type": "code",
   "execution_count": 105,
   "metadata": {},
   "outputs": [
    {
     "name": "stdout",
     "output_type": "stream",
     "text": [
      "[[6 2]\n",
      " [4 1]]\n",
      "\n",
      "0.5384615384615384\n",
      "\n",
      "              precision    recall  f1-score   support\n",
      "\n",
      "           0       0.60      0.75      0.67         8\n",
      "           1       0.33      0.20      0.25         5\n",
      "\n",
      "    accuracy                           0.54        13\n",
      "   macro avg       0.47      0.47      0.46        13\n",
      "weighted avg       0.50      0.54      0.51        13\n",
      "\n"
     ]
    }
   ],
   "source": [
    "# Teste\n",
    "print(confusion_matrix(y_test, y_pred))\n",
    "print()\n",
    "print(accuracy_score(y_test, y_pred))\n",
    "print()\n",
    "print(classification_report(y_test, y_pred))"
   ]
  },
  {
   "cell_type": "code",
   "execution_count": 106,
   "metadata": {},
   "outputs": [
    {
     "name": "stdout",
     "output_type": "stream",
     "text": [
      "AUC - Teste : 0.475\n"
     ]
    },
    {
     "data": {
      "image/png": "[encoded data removed]",
      "text/plain": [
       "<Figure size 432x288 with 1 Axes>"
      ]
     },
     "metadata": {
      "needs_background": "light"
     },
     "output_type": "display_data"
    }
   ],
   "source": [
    "# Calculando a AUC (Area Under the Curve)\n",
    "fpr, tpr, thresholds = roc_curve(y_test, y_pred_proba)\n",
    "roc_auc = auc(fpr, tpr)\n",
    "\n",
    "print(\"AUC - Teste :\", roc_auc)\n",
    "\n",
    "# Criando Curva ROC\n",
    "fpr, tpr, thresholds = roc_curve(y_test,  y_pred_proba)\n",
    "\n",
    "plt.plot([0,1], [0,1], linestyle = '--', label = 'Modelo Naive')\n",
    "plt.plot(fpr, tpr, label = 'Rede Neural')\n",
    "plt.ylabel('True Positive Rate')\n",
    "plt.xlabel('False Positive Rate')\n",
    "plt.title(\"ROC - Receiver Operating Characteristic\")\n",
    "plt.legend()\n",
    "plt.show()"
   ]
  },
  {
   "cell_type": "code",
   "execution_count": 107,
   "metadata": {},
   "outputs": [
    {
     "name": "stdout",
     "output_type": "stream",
     "text": [
      "O threshold ótimo é de:  0.225\n"
     ]
    },
    {
     "data": {
      "image/png": "[encoded data removed]",
      "text/plain": [
       "<Figure size 432x288 with 1 Axes>"
      ]
     },
     "metadata": {
      "needs_background": "light"
     },
     "output_type": "display_data"
    }
   ],
   "source": [
    "# Otimização\n",
    "i = np.arange(len(tpr))\n",
    "df_thresholds = pd.DataFrame({'fpr' : pd.Series(fpr, index = i),\n",
    "                          'tpr' : pd.Series(tpr, index = i), # sensibilidade\n",
    "                          '1-fpr' : pd.Series(1-fpr, index = i), # especificidade\n",
    "                          'J' : pd.Series(tpr + (1 - fpr) - 1, index = i), # sensibilidade + especificidade -1\n",
    "                          'threshold' : pd.Series(thresholds, index = i)}) # thresholds testados\n",
    "\n",
    "df_thresholds = df_thresholds.sort_values(by = \"J\", ascending = False)\n",
    "corte = df_thresholds.iloc[0][\"J\"]\n",
    "print(\"O threshold ótimo é de: \", round(corte, 3))\n",
    "\n",
    "# Criando Curva ROC\n",
    "y_pred_proba = modelo.predict_proba(X_train)[::,1] # Probabilidade de Y = 1 \n",
    "fpr, tpr, thresholds = roc_curve(y_train,  y_pred_proba)\n",
    "\n",
    "plt.scatter(df_thresholds.iloc[0][\"fpr\"], df_thresholds.iloc[0][\"tpr\"], marker = 'o', color='black', label='Threshold Ótimo', linewidth = 4)\n",
    "plt.plot([0,1], [0,1], linestyle = '--', label = 'Modelo Naive')\n",
    "plt.plot(fpr, tpr, label = 'Modelo Logístico')\n",
    "plt.ylabel('True Positive Rate')\n",
    "plt.xlabel('False Positive Rate')\n",
    "plt.title(\"ROC - Receiver Operating Characteristic\")\n",
    "plt.legend()\n",
    "plt.show()"
   ]
  },
  {
   "cell_type": "markdown",
   "metadata": {},
   "source": [
    "### Random Forest\n",
    "\n",
    "Hiperparâmetros a serem otimizados:\n",
    "\n",
    "* n_estimators -> número de árvores distintas estimadas (padrão: 10 -> pode ser muito pequeno)\n",
    "* max_features -> número máximo de variáveis independentes a ser considerado em cada nó das árvores de decisão (padrão: raiz quadrada da quantidade de variáveis independentes imputada ao modelo, o que é uma boa medida)"
   ]
  },
  {
   "cell_type": "code",
   "execution_count": 80,
   "metadata": {},
   "outputs": [],
   "source": [
    "modelo = RandomForestClassifier(random_state = 42) # gera um modelo aleatório a cada vez que rodamos o código\n",
    "modelo.fit(X_train, y_train)"
   ]
  },
  {
   "cell_type": "code",
   "execution_count": 83,
   "metadata": {},
   "outputs": [
    {
     "data": {
      "text/plain": [
       "<AxesSubplot:title={'center':'Probabilidades'}>"
      ]
     },
     "execution_count": 83,
     "metadata": {},
     "output_type": "execute_result"
    },
    {
     "data": {
      "image/png": "[encoded data removed]",
      "text/plain": [
       "<Figure size 432x288 with 1 Axes>"
      ]
     },
     "metadata": {
      "needs_background": "light"
     },
     "output_type": "display_data"
    }
   ],
   "source": [
    "y_pred = modelo.predict(X_test)\n",
    "y_pred_train = modelo.predict(X_train)\n",
    "y_pred_proba = modelo.predict_proba(X_test)[:,1]\n",
    "pd.Series(y_pred_proba).plot(title = \"Probabilidades\")"
   ]
  },
  {
   "cell_type": "code",
   "execution_count": 84,
   "metadata": {},
   "outputs": [
    {
     "name": "stdout",
     "output_type": "stream",
     "text": [
      "[[23  0]\n",
      " [ 0 14]]\n",
      "\n",
      "1.0\n",
      "\n",
      "              precision    recall  f1-score   support\n",
      "\n",
      "           0       1.00      1.00      1.00        23\n",
      "           1       1.00      1.00      1.00        14\n",
      "\n",
      "    accuracy                           1.00        37\n",
      "   macro avg       1.00      1.00      1.00        37\n",
      "weighted avg       1.00      1.00      1.00        37\n",
      "\n"
     ]
    }
   ],
   "source": [
    "# Treinamento\n",
    "print(confusion_matrix(y_train, y_pred_train))\n",
    "print()\n",
    "print(accuracy_score(y_train, y_pred_train))\n",
    "print()\n",
    "print(classification_report(y_train, y_pred_train))"
   ]
  },
  {
   "cell_type": "code",
   "execution_count": 87,
   "metadata": {},
   "outputs": [
    {
     "name": "stdout",
     "output_type": "stream",
     "text": [
      "[[6 2]\n",
      " [1 4]]\n",
      "\n",
      "0.7692307692307693\n",
      "\n",
      "              precision    recall  f1-score   support\n",
      "\n",
      "           0       0.86      0.75      0.80         8\n",
      "           1       0.67      0.80      0.73         5\n",
      "\n",
      "    accuracy                           0.77        13\n",
      "   macro avg       0.76      0.78      0.76        13\n",
      "weighted avg       0.78      0.77      0.77        13\n",
      "\n"
     ]
    }
   ],
   "source": [
    "# Teste\n",
    "print(confusion_matrix(y_test, y_pred))\n",
    "print()\n",
    "print(accuracy_score(y_test, y_pred))\n",
    "print()\n",
    "print(classification_report(y_test, y_pred))"
   ]
  },
  {
   "cell_type": "code",
   "execution_count": 85,
   "metadata": {},
   "outputs": [
    {
     "name": "stdout",
     "output_type": "stream",
     "text": [
      "AUC - Teste : 0.9\n"
     ]
    },
    {
     "data": {
      "image/png": "[encoded data removed]",
      "text/plain": [
       "<Figure size 432x288 with 1 Axes>"
      ]
     },
     "metadata": {
      "needs_background": "light"
     },
     "output_type": "display_data"
    }
   ],
   "source": [
    "# Calculando a AUC (Area Under the Curve)\n",
    "fpr, tpr, thresholds = roc_curve(y_test, y_pred_proba)\n",
    "roc_auc = auc(fpr, tpr)\n",
    "\n",
    "print(\"AUC - Teste :\", roc_auc)\n",
    "\n",
    "# Criando Curva ROC\n",
    "fpr, tpr, thresholds = roc_curve(y_test,  y_pred_proba)\n",
    "\n",
    "plt.plot([0,1], [0,1], linestyle = '--', label = 'Modelo Naive')\n",
    "plt.plot(fpr, tpr, label = 'Rede Neural')\n",
    "plt.ylabel('True Positive Rate')\n",
    "plt.xlabel('False Positive Rate')\n",
    "plt.title(\"ROC - Receiver Operating Characteristic\")\n",
    "plt.legend()\n",
    "plt.show()"
   ]
  },
  {
   "cell_type": "markdown",
   "metadata": {},
   "source": [
    "### Neural Network\n",
    "\n",
    "Hiperparâmetros a serem otimizados:\n",
    "\n",
    "* hidden_layer_sizes -> tupla contendo o número de neurônios dentro de cada camada (padrão: uma camada de 100 neurons)\n",
    "* max_iter -> número máximo de iterações a serem realizadas pelo método de backpropagation\n",
    "* alpha -> o valor máximo de alteração dos coeficientes em cada iteração, para minimizar a função de custo (padrão: 0.0001)\n",
    "* solver -> Algoritmo utilizado para encontrar a solução ótima, cujo tempo de obtenção da resposta varia. Opções: 'lbfgs', 'sgd' e 'adam'."
   ]
  },
  {
   "cell_type": "code",
   "execution_count": 89,
   "metadata": {
    "scrolled": true
   },
   "outputs": [
    {
     "name": "stdout",
     "output_type": "stream",
     "text": [
      "Iteration 1, loss = 1.88100423\n",
      "Iteration 2, loss = 1.69694058\n",
      "Iteration 3, loss = 1.51681820\n",
      "Iteration 4, loss = 1.34186735\n",
      "Iteration 5, loss = 1.17252308\n",
      "Iteration 6, loss = 1.01260367\n",
      "Iteration 7, loss = 0.88439993\n",
      "Iteration 8, loss = 0.79178952\n",
      "Iteration 9, loss = 0.71270228\n",
      "Iteration 10, loss = 0.64230828\n",
      "Iteration 11, loss = 0.57883591\n",
      "Iteration 12, loss = 0.52303980\n",
      "Iteration 13, loss = 0.47737675\n",
      "Iteration 14, loss = 0.44271347\n",
      "Iteration 15, loss = 0.41628278\n",
      "Iteration 16, loss = 0.39496735\n",
      "Iteration 17, loss = 0.37701322\n",
      "Iteration 18, loss = 0.36152702\n",
      "Iteration 19, loss = 0.34810514\n",
      "Iteration 20, loss = 0.33651902\n",
      "Iteration 21, loss = 0.32645381\n",
      "Iteration 22, loss = 0.31746698\n",
      "Iteration 23, loss = 0.30896977\n",
      "Iteration 24, loss = 0.30037298\n",
      "Iteration 25, loss = 0.29139318\n",
      "Iteration 26, loss = 0.28210195\n",
      "Iteration 27, loss = 0.27283500\n",
      "Iteration 28, loss = 0.26384443\n",
      "Iteration 29, loss = 0.25531409\n",
      "Iteration 30, loss = 0.24731509\n",
      "Iteration 31, loss = 0.23985050\n",
      "Iteration 32, loss = 0.23283999\n",
      "Iteration 33, loss = 0.22618387\n",
      "Iteration 34, loss = 0.21980820\n",
      "Iteration 35, loss = 0.21362488\n",
      "Iteration 36, loss = 0.20761359\n",
      "Iteration 37, loss = 0.20176916\n",
      "Iteration 38, loss = 0.19612070\n",
      "Iteration 39, loss = 0.19070008\n",
      "Iteration 40, loss = 0.18558751\n",
      "Iteration 41, loss = 0.18072687\n",
      "Iteration 42, loss = 0.17615196\n",
      "Iteration 43, loss = 0.17185293\n",
      "Iteration 44, loss = 0.16781924\n",
      "Iteration 45, loss = 0.16397952\n",
      "Iteration 46, loss = 0.16030418\n",
      "Iteration 47, loss = 0.15676791\n",
      "Iteration 48, loss = 0.15333426\n",
      "Iteration 49, loss = 0.14999778\n",
      "Iteration 50, loss = 0.14675509\n",
      "Iteration 51, loss = 0.14363054\n",
      "Iteration 52, loss = 0.14062139\n",
      "Iteration 53, loss = 0.13771975\n",
      "Iteration 54, loss = 0.13490121\n",
      "Iteration 55, loss = 0.13217561\n",
      "Iteration 56, loss = 0.12951839\n",
      "Iteration 57, loss = 0.12692630\n",
      "Iteration 58, loss = 0.12439249\n",
      "Iteration 59, loss = 0.12192490\n",
      "Iteration 60, loss = 0.11951126\n",
      "Iteration 61, loss = 0.11714788\n",
      "Iteration 62, loss = 0.11484221\n",
      "Iteration 63, loss = 0.11258983\n",
      "Iteration 64, loss = 0.11039573\n",
      "Iteration 65, loss = 0.10826476\n",
      "Iteration 66, loss = 0.10618707\n",
      "Iteration 67, loss = 0.10415883\n",
      "Iteration 68, loss = 0.10218659\n",
      "Iteration 69, loss = 0.10027160\n",
      "Iteration 70, loss = 0.09840636\n",
      "Iteration 71, loss = 0.09658313\n",
      "Iteration 72, loss = 0.09480263\n",
      "Iteration 73, loss = 0.09306470\n",
      "Iteration 74, loss = 0.09136848\n",
      "Iteration 75, loss = 0.08972559\n",
      "Iteration 76, loss = 0.08813006\n",
      "Iteration 77, loss = 0.08657582\n",
      "Iteration 78, loss = 0.08507070\n",
      "Iteration 79, loss = 0.08361554\n",
      "Iteration 80, loss = 0.08219909\n",
      "Iteration 81, loss = 0.08080874\n",
      "Iteration 82, loss = 0.07944592\n",
      "Iteration 83, loss = 0.07811032\n",
      "Iteration 84, loss = 0.07680588\n",
      "Iteration 85, loss = 0.07553395\n",
      "Iteration 86, loss = 0.07430126\n",
      "Iteration 87, loss = 0.07310476\n",
      "Iteration 88, loss = 0.07193732\n",
      "Iteration 89, loss = 0.07079445\n",
      "Iteration 90, loss = 0.06967096\n",
      "Iteration 91, loss = 0.06856757\n",
      "Iteration 92, loss = 0.06749389\n",
      "Iteration 93, loss = 0.06644432\n",
      "Iteration 94, loss = 0.06542159\n",
      "Iteration 95, loss = 0.06441712\n",
      "Iteration 96, loss = 0.06343126\n",
      "Iteration 97, loss = 0.06246315\n",
      "Iteration 98, loss = 0.06151526\n",
      "Iteration 99, loss = 0.06058961\n",
      "Iteration 100, loss = 0.05968601\n"
     ]
    },
    {
     "name": "stderr",
     "output_type": "stream",
     "text": [
      "C:\\Users\\Bruno Marcelino\\anaconda3\\lib\\site-packages\\sklearn\\neural_network\\_multilayer_perceptron.py:692: ConvergenceWarning: Stochastic Optimizer: Maximum iterations (100) reached and the optimization hasn't converged yet.\n",
      "  warnings.warn(\n"
     ]
    },
    {
     "data": {
      "text/plain": [
       "MLPClassifier(max_iter=100, random_state=42, verbose=True)"
      ]
     },
     "execution_count": 89,
     "metadata": {},
     "output_type": "execute_result"
    }
   ],
   "source": [
    "modelo = MLPClassifier(random_state = 42, max_iter = 100, verbose = True) # gera um modelo aleatório a cada vez que rodamos o código\n",
    "modelo.fit(X_train, y_train)"
   ]
  },
  {
   "cell_type": "code",
   "execution_count": 90,
   "metadata": {},
   "outputs": [
    {
     "data": {
      "text/plain": [
       "<AxesSubplot:title={'center':'Probabilidades'}>"
      ]
     },
     "execution_count": 90,
     "metadata": {},
     "output_type": "execute_result"
    },
    {
     "data": {
      "image/png": "[encoded data removed]",
      "text/plain": [
       "<Figure size 432x288 with 1 Axes>"
      ]
     },
     "metadata": {
      "needs_background": "light"
     },
     "output_type": "display_data"
    }
   ],
   "source": [
    "y_pred = modelo.predict(X_test)\n",
    "y_pred_train = modelo.predict(X_train)\n",
    "y_pred_proba = modelo.predict_proba(X_test)[:,1]\n",
    "pd.Series(y_pred_proba).plot(title = \"Probabilidades\")"
   ]
  },
  {
   "cell_type": "code",
   "execution_count": 91,
   "metadata": {},
   "outputs": [
    {
     "name": "stdout",
     "output_type": "stream",
     "text": [
      "[[23  0]\n",
      " [ 0 14]]\n",
      "\n",
      "1.0\n",
      "\n",
      "              precision    recall  f1-score   support\n",
      "\n",
      "           0       1.00      1.00      1.00        23\n",
      "           1       1.00      1.00      1.00        14\n",
      "\n",
      "    accuracy                           1.00        37\n",
      "   macro avg       1.00      1.00      1.00        37\n",
      "weighted avg       1.00      1.00      1.00        37\n",
      "\n"
     ]
    }
   ],
   "source": [
    "# Treinamento\n",
    "print(confusion_matrix(y_train, y_pred_train))\n",
    "print()\n",
    "print(accuracy_score(y_train, y_pred_train))\n",
    "print()\n",
    "print(classification_report(y_train, y_pred_train))"
   ]
  },
  {
   "cell_type": "code",
   "execution_count": 92,
   "metadata": {},
   "outputs": [
    {
     "name": "stdout",
     "output_type": "stream",
     "text": [
      "[[6 2]\n",
      " [2 3]]\n",
      "\n",
      "0.6923076923076923\n",
      "\n",
      "              precision    recall  f1-score   support\n",
      "\n",
      "           0       0.75      0.75      0.75         8\n",
      "           1       0.60      0.60      0.60         5\n",
      "\n",
      "    accuracy                           0.69        13\n",
      "   macro avg       0.68      0.68      0.68        13\n",
      "weighted avg       0.69      0.69      0.69        13\n",
      "\n"
     ]
    }
   ],
   "source": [
    "# Teste\n",
    "print(confusion_matrix(y_test, y_pred))\n",
    "print()\n",
    "print(accuracy_score(y_test, y_pred))\n",
    "print()\n",
    "print(classification_report(y_test, y_pred))"
   ]
  },
  {
   "cell_type": "code",
   "execution_count": 93,
   "metadata": {},
   "outputs": [
    {
     "name": "stdout",
     "output_type": "stream",
     "text": [
      "AUC - Teste : 0.7\n"
     ]
    },
    {
     "data": {
      "image/png": "[encoded data removed]",
      "text/plain": [
       "<Figure size 432x288 with 1 Axes>"
      ]
     },
     "metadata": {
      "needs_background": "light"
     },
     "output_type": "display_data"
    }
   ],
   "source": [
    "# Calculando a AUC (Area Under the Curve)\n",
    "fpr, tpr, thresholds = roc_curve(y_test, y_pred_proba)\n",
    "roc_auc = auc(fpr, tpr)\n",
    "\n",
    "print(\"AUC - Teste :\", roc_auc)\n",
    "\n",
    "# Criando Curva ROC\n",
    "fpr, tpr, thresholds = roc_curve(y_test,  y_pred_proba)\n",
    "\n",
    "plt.plot([0,1], [0,1], linestyle = '--', label = 'Modelo Naive')\n",
    "plt.plot(fpr, tpr, label = 'Rede Neural')\n",
    "plt.ylabel('True Positive Rate')\n",
    "plt.xlabel('False Positive Rate')\n",
    "plt.title(\"ROC - Receiver Operating Characteristic\")\n",
    "plt.legend()\n",
    "plt.show()"
   ]
  },
  {
   "cell_type": "code",
   "execution_count": 94,
   "metadata": {},
   "outputs": [
    {
     "data": {
      "text/plain": [
       "<AxesSubplot:title={'center':'Loss Curve'}>"
      ]
     },
     "execution_count": 94,
     "metadata": {},
     "output_type": "execute_result"
    },
    {
     "data": {
      "image/png": "[encoded data removed]",
      "text/plain": [
       "<Figure size 432x288 with 1 Axes>"
      ]
     },
     "metadata": {
      "needs_background": "light"
     },
     "output_type": "display_data"
    }
   ],
   "source": [
    "# Curva de Custo\n",
    "pd.Series(modelo.loss_curve_).plot(title = \"Loss Curve\")"
   ]
  }
 ],
 "metadata": {
  "kernelspec": {
   "display_name": "Python 3 (ipykernel)",
   "language": "python",
   "name": "python3"
  },
  "language_info": {
   "codemirror_mode": {
    "name": "ipython",
    "version": 3
   },
   "file_extension": ".py",
   "mimetype": "text/x-python",
   "name": "python",
   "nbconvert_exporter": "python",
   "pygments_lexer": "ipython3",
   "version": "3.8.5"
  }
 },
 "nbformat": 4,
 "nbformat_minor": 4
}
