{
 "cells": [
  {
   "cell_type": "markdown",
   "metadata": {},
   "source": [
    "# Feature Import"
   ]
  },
  {
   "cell_type": "code",
   "execution_count": 1,
   "metadata": {},
   "outputs": [],
   "source": [
    "# Manipulação de Dados\n",
    "import pandas as pd\n",
    "import numpy as np\n",
    "import matplotlib.pyplot as plt\n",
    "\n",
    "# Pré-processamento dos Dados\n",
    "from sklearn.preprocessing import StandardScaler\n",
    "from sklearn.decomposition import PCA\n",
    "\n",
    "# Modelos Utilizados\n",
    "from sklearn.ensemble import RandomForestClassifier\n",
    "from sklearn.linear_model import LogisticRegression\n",
    "from sklearn.neural_network import MLPClassifier\n",
    "\n",
    "# Otimização\n",
    "from sklearn.model_selection import train_test_split, GridSearchCV\n",
    "\n",
    "# Métricas de Avaliação: Classificação\n",
    "from sklearn.metrics import classification_report, confusion_matrix, accuracy_score, roc_curve, auc, RocCurveDisplay"
   ]
  },
  {
   "cell_type": "code",
   "execution_count": 17,
   "metadata": {},
   "outputs": [
    {
     "name": "stdout",
     "output_type": "stream",
     "text": [
      "DataFrames disponíveis:  ['df_1y', 'df_2y', 'df_3y', 'df_4y', 'df_5y']\n",
      "\n",
      "Selecione dados de 1 a 5 anos pré-falência: 3\n"
     ]
    }
   ],
   "source": [
    "dfs = pd.read_excel(\"../data/dados.xlsx\", sheet_name = None, index_col = \"Empresa\")\n",
    "print(\"DataFrames disponíveis: \", list(dfs.keys())) # representam indicadores de anos antes da falência\n",
    "\n",
    "n = int(input(\"\\nSelecione dados de 1 a 5 anos pré-falência: \"))"
   ]
  },
  {
   "cell_type": "code",
   "execution_count": 32,
   "metadata": {},
   "outputs": [
    {
     "data": {
      "text/html": [
       "<div>\n",
       "<style scoped>\n",
       "    .dataframe tbody tr th:only-of-type {\n",
       "        vertical-align: middle;\n",
       "    }\n",
       "\n",
       "    .dataframe tbody tr th {\n",
       "        vertical-align: top;\n",
       "    }\n",
       "\n",
       "    .dataframe thead th {\n",
       "        text-align: right;\n",
       "    }\n",
       "</style>\n",
       "<table border=\"1\" class=\"dataframe\">\n",
       "  <thead>\n",
       "    <tr style=\"text-align: right;\">\n",
       "      <th></th>\n",
       "      <th>Dispon/PC</th>\n",
       "      <th>Dispon/Receita Liq Operacional</th>\n",
       "      <th>Dispon/AC</th>\n",
       "      <th>Dispon/AT</th>\n",
       "      <th>AC/PC</th>\n",
       "      <th>AC/AT</th>\n",
       "      <th>PC/AT</th>\n",
       "      <th>PC/Receita Liq Operacional</th>\n",
       "      <th>Estoque/AT</th>\n",
       "      <th>Quick assets/AT</th>\n",
       "      <th>...</th>\n",
       "      <th>VA/IMOBILIZADO</th>\n",
       "      <th>VA/AT</th>\n",
       "      <th>VA/RLO</th>\n",
       "      <th>Contas a pagar/RLO</th>\n",
       "      <th>AC/RLO</th>\n",
       "      <th>Estoque/RLO</th>\n",
       "      <th>NOWC/RLO</th>\n",
       "      <th>Contas a receber/RLO</th>\n",
       "      <th>RLO/AT</th>\n",
       "      <th>Alvo</th>\n",
       "    </tr>\n",
       "    <tr>\n",
       "      <th>Empresa</th>\n",
       "      <th></th>\n",
       "      <th></th>\n",
       "      <th></th>\n",
       "      <th></th>\n",
       "      <th></th>\n",
       "      <th></th>\n",
       "      <th></th>\n",
       "      <th></th>\n",
       "      <th></th>\n",
       "      <th></th>\n",
       "      <th></th>\n",
       "      <th></th>\n",
       "      <th></th>\n",
       "      <th></th>\n",
       "      <th></th>\n",
       "      <th></th>\n",
       "      <th></th>\n",
       "      <th></th>\n",
       "      <th></th>\n",
       "      <th></th>\n",
       "      <th></th>\n",
       "    </tr>\n",
       "  </thead>\n",
       "  <tbody>\n",
       "    <tr>\n",
       "      <th>BOMBRIL</th>\n",
       "      <td>0.006014</td>\n",
       "      <td>0.002968</td>\n",
       "      <td>0.010160</td>\n",
       "      <td>0.001904</td>\n",
       "      <td>0.591890</td>\n",
       "      <td>0.187412</td>\n",
       "      <td>0.316633</td>\n",
       "      <td>0.493520</td>\n",
       "      <td>0.024933</td>\n",
       "      <td>0.162479</td>\n",
       "      <td>...</td>\n",
       "      <td>0.661097</td>\n",
       "      <td>0.096696</td>\n",
       "      <td>0.150715</td>\n",
       "      <td>0.101836</td>\n",
       "      <td>0.292110</td>\n",
       "      <td>0.038861</td>\n",
       "      <td>0.064364</td>\n",
       "      <td>0.248904</td>\n",
       "      <td>0.641581</td>\n",
       "      <td>1</td>\n",
       "    </tr>\n",
       "    <tr>\n",
       "      <th>COSAN</th>\n",
       "      <td>0.619205</td>\n",
       "      <td>0.085355</td>\n",
       "      <td>0.389004</td>\n",
       "      <td>0.082146</td>\n",
       "      <td>1.591769</td>\n",
       "      <td>0.211170</td>\n",
       "      <td>0.132664</td>\n",
       "      <td>0.137846</td>\n",
       "      <td>0.051083</td>\n",
       "      <td>0.160088</td>\n",
       "      <td>...</td>\n",
       "      <td>NaN</td>\n",
       "      <td>-0.168142</td>\n",
       "      <td>-0.174710</td>\n",
       "      <td>0.037102</td>\n",
       "      <td>0.219418</td>\n",
       "      <td>0.053078</td>\n",
       "      <td>0.137194</td>\n",
       "      <td>0.049948</td>\n",
       "      <td>0.962410</td>\n",
       "      <td>0</td>\n",
       "    </tr>\n",
       "    <tr>\n",
       "      <th>METALFRIO</th>\n",
       "      <td>1.188879</td>\n",
       "      <td>0.506753</td>\n",
       "      <td>0.577486</td>\n",
       "      <td>0.411240</td>\n",
       "      <td>2.058714</td>\n",
       "      <td>0.712121</td>\n",
       "      <td>0.345906</td>\n",
       "      <td>0.426245</td>\n",
       "      <td>0.108425</td>\n",
       "      <td>0.603697</td>\n",
       "      <td>...</td>\n",
       "      <td>-0.446177</td>\n",
       "      <td>-0.074363</td>\n",
       "      <td>-0.091634</td>\n",
       "      <td>0.106727</td>\n",
       "      <td>0.877516</td>\n",
       "      <td>0.133607</td>\n",
       "      <td>0.732256</td>\n",
       "      <td>0.198623</td>\n",
       "      <td>0.811519</td>\n",
       "      <td>0</td>\n",
       "    </tr>\n",
       "    <tr>\n",
       "      <th>TAESA</th>\n",
       "      <td>0.161905</td>\n",
       "      <td>0.136656</td>\n",
       "      <td>0.155352</td>\n",
       "      <td>0.029167</td>\n",
       "      <td>1.042177</td>\n",
       "      <td>0.187745</td>\n",
       "      <td>0.180147</td>\n",
       "      <td>0.844051</td>\n",
       "      <td>NaN</td>\n",
       "      <td>0.187745</td>\n",
       "      <td>...</td>\n",
       "      <td>49.556333</td>\n",
       "      <td>0.145754</td>\n",
       "      <td>0.682908</td>\n",
       "      <td>0.031006</td>\n",
       "      <td>0.879651</td>\n",
       "      <td>NaN</td>\n",
       "      <td>0.236564</td>\n",
       "      <td>0.130914</td>\n",
       "      <td>0.213431</td>\n",
       "      <td>0</td>\n",
       "    </tr>\n",
       "    <tr>\n",
       "      <th>TUPY</th>\n",
       "      <td>1.424369</td>\n",
       "      <td>0.359718</td>\n",
       "      <td>0.551497</td>\n",
       "      <td>0.249257</td>\n",
       "      <td>2.582731</td>\n",
       "      <td>0.451964</td>\n",
       "      <td>0.174994</td>\n",
       "      <td>0.252546</td>\n",
       "      <td>0.061637</td>\n",
       "      <td>0.390326</td>\n",
       "      <td>...</td>\n",
       "      <td>-0.201133</td>\n",
       "      <td>-0.073750</td>\n",
       "      <td>-0.106434</td>\n",
       "      <td>0.079699</td>\n",
       "      <td>0.652257</td>\n",
       "      <td>0.088953</td>\n",
       "      <td>0.490554</td>\n",
       "      <td>0.121582</td>\n",
       "      <td>0.692922</td>\n",
       "      <td>0</td>\n",
       "    </tr>\n",
       "  </tbody>\n",
       "</table>\n",
       "<p>5 rows × 51 columns</p>\n",
       "</div>"
      ],
      "text/plain": [
       "           Dispon/PC  Dispon/Receita Liq Operacional  Dispon/AC  Dispon/AT  \\\n",
       "Empresa                                                                      \n",
       "BOMBRIL     0.006014                        0.002968   0.010160   0.001904   \n",
       "COSAN       0.619205                        0.085355   0.389004   0.082146   \n",
       "METALFRIO   1.188879                        0.506753   0.577486   0.411240   \n",
       "TAESA       0.161905                        0.136656   0.155352   0.029167   \n",
       "TUPY        1.424369                        0.359718   0.551497   0.249257   \n",
       "\n",
       "              AC/PC     AC/AT     PC/AT  PC/Receita Liq Operacional  \\\n",
       "Empresa                                                               \n",
       "BOMBRIL    0.591890  0.187412  0.316633                    0.493520   \n",
       "COSAN      1.591769  0.211170  0.132664                    0.137846   \n",
       "METALFRIO  2.058714  0.712121  0.345906                    0.426245   \n",
       "TAESA      1.042177  0.187745  0.180147                    0.844051   \n",
       "TUPY       2.582731  0.451964  0.174994                    0.252546   \n",
       "\n",
       "           Estoque/AT  Quick assets/AT  ...  VA/IMOBILIZADO     VA/AT  \\\n",
       "Empresa                                 ...                             \n",
       "BOMBRIL      0.024933         0.162479  ...        0.661097  0.096696   \n",
       "COSAN        0.051083         0.160088  ...             NaN -0.168142   \n",
       "METALFRIO    0.108425         0.603697  ...       -0.446177 -0.074363   \n",
       "TAESA             NaN         0.187745  ...       49.556333  0.145754   \n",
       "TUPY         0.061637         0.390326  ...       -0.201133 -0.073750   \n",
       "\n",
       "             VA/RLO  Contas a pagar/RLO    AC/RLO  Estoque/RLO  NOWC/RLO  \\\n",
       "Empresa                                                                    \n",
       "BOMBRIL    0.150715            0.101836  0.292110     0.038861  0.064364   \n",
       "COSAN     -0.174710            0.037102  0.219418     0.053078  0.137194   \n",
       "METALFRIO -0.091634            0.106727  0.877516     0.133607  0.732256   \n",
       "TAESA      0.682908            0.031006  0.879651          NaN  0.236564   \n",
       "TUPY      -0.106434            0.079699  0.652257     0.088953  0.490554   \n",
       "\n",
       "           Contas a receber/RLO    RLO/AT  Alvo  \n",
       "Empresa                                          \n",
       "BOMBRIL                0.248904  0.641581     1  \n",
       "COSAN                  0.049948  0.962410     0  \n",
       "METALFRIO              0.198623  0.811519     0  \n",
       "TAESA                  0.130914  0.213431     0  \n",
       "TUPY                   0.121582  0.692922     0  \n",
       "\n",
       "[5 rows x 51 columns]"
      ]
     },
     "execution_count": 32,
     "metadata": {},
     "output_type": "execute_result"
    }
   ],
   "source": [
    "df = dfs[list(dfs.keys())[n-1]]\n",
    "df.head()"
   ]
  },
  {
   "cell_type": "markdown",
   "metadata": {},
   "source": [
    "# Feature Engineering"
   ]
  },
  {
   "cell_type": "code",
   "execution_count": 33,
   "metadata": {},
   "outputs": [],
   "source": [
    "df.dropna(inplace = True)"
   ]
  },
  {
   "cell_type": "code",
   "execution_count": 34,
   "metadata": {},
   "outputs": [
    {
     "data": {
      "text/plain": [
       "0    26\n",
       "1    20\n",
       "Name: Alvo, dtype: int64"
      ]
     },
     "execution_count": 34,
     "metadata": {},
     "output_type": "execute_result"
    }
   ],
   "source": [
    "df[\"Alvo\"].value_counts()"
   ]
  },
  {
   "cell_type": "code",
   "execution_count": 35,
   "metadata": {},
   "outputs": [],
   "source": [
    "X = df.drop(\"Alvo\", axis = 1)\n",
    "y = df[\"Alvo\"]\n",
    "\n",
    "X_train, X_test, y_train, y_test = train_test_split(X, y, random_state = 42)"
   ]
  },
  {
   "cell_type": "markdown",
   "metadata": {},
   "source": [
    "#### Padronização"
   ]
  },
  {
   "cell_type": "code",
   "execution_count": 36,
   "metadata": {},
   "outputs": [],
   "source": [
    "scaler = StandardScaler()\n",
    "X_train_norm = scaler.fit_transform(X_train)\n",
    "X_test_norm = scaler.transform(X_test)"
   ]
  },
  {
   "cell_type": "markdown",
   "metadata": {},
   "source": [
    "#### Análise de Componentes Principais (PCA)"
   ]
  },
  {
   "cell_type": "code",
   "execution_count": 37,
   "metadata": {},
   "outputs": [],
   "source": [
    "pca = PCA()\n",
    "X_train = pca.fit_transform(X_train_norm)\n",
    "X_test = pca.transform(X_test_norm)"
   ]
  },
  {
   "cell_type": "code",
   "execution_count": 38,
   "metadata": {},
   "outputs": [
    {
     "data": {
      "text/plain": [
       "array([0.22, 0.38, 0.51, 0.61, 0.69, 0.75, 0.79, 0.83, 0.87, 0.9 , 0.92,\n",
       "       0.94, 0.96, 0.97, 0.98, 0.98, 0.99, 0.99, 0.99, 0.99, 1.  , 1.  ,\n",
       "       1.  , 1.  , 1.  , 1.  , 1.  , 1.  , 1.  , 1.  , 1.  , 1.  , 1.  ,\n",
       "       1.  ])"
      ]
     },
     "execution_count": 38,
     "metadata": {},
     "output_type": "execute_result"
    }
   ],
   "source": [
    "pca.explained_variance_ratio_.cumsum().round(2)"
   ]
  },
  {
   "cell_type": "markdown",
   "metadata": {},
   "source": [
    "# Modelling"
   ]
  },
  {
   "cell_type": "markdown",
   "metadata": {},
   "source": [
    "### Logistic Regression"
   ]
  },
  {
   "cell_type": "code",
   "execution_count": 39,
   "metadata": {},
   "outputs": [
    {
     "data": {
      "text/plain": [
       "LogisticRegression(max_iter=1000, random_state=42)"
      ]
     },
     "execution_count": 39,
     "metadata": {},
     "output_type": "execute_result"
    }
   ],
   "source": [
    "modelo = LogisticRegression(max_iter = 1000, random_state = 42)\n",
    "modelo.fit(X_train, y_train)"
   ]
  },
  {
   "cell_type": "code",
   "execution_count": 40,
   "metadata": {
    "scrolled": true
   },
   "outputs": [
    {
     "data": {
      "text/plain": [
       "<AxesSubplot:title={'center':'Probabilidades'}>"
      ]
     },
     "execution_count": 40,
     "metadata": {},
     "output_type": "execute_result"
    },
    {
     "data": {
      "image/png": "[encoded data removed]",
      "text/plain": [
       "<Figure size 432x288 with 1 Axes>"
      ]
     },
     "metadata": {
      "needs_background": "light"
     },
     "output_type": "display_data"
    }
   ],
   "source": [
    "y_pred = modelo.predict(X_test)\n",
    "y_pred_train = modelo.predict(X_train)\n",
    "y_pred_proba_train = modelo.predict_proba(X_train)[:,1]\n",
    "y_pred_proba = modelo.predict_proba(X_test)[:,1]\n",
    "pd.Series(y_pred_proba).plot(title = \"Probabilidades\")"
   ]
  },
  {
   "cell_type": "code",
   "execution_count": 41,
   "metadata": {},
   "outputs": [
    {
     "name": "stdout",
     "output_type": "stream",
     "text": [
      "[[19  0]\n",
      " [ 1 14]]\n",
      "\n",
      "0.9705882352941176\n",
      "\n",
      "              precision    recall  f1-score   support\n",
      "\n",
      "           0       0.95      1.00      0.97        19\n",
      "           1       1.00      0.93      0.97        15\n",
      "\n",
      "    accuracy                           0.97        34\n",
      "   macro avg       0.97      0.97      0.97        34\n",
      "weighted avg       0.97      0.97      0.97        34\n",
      "\n"
     ]
    }
   ],
   "source": [
    "# Treinamento\n",
    "print(confusion_matrix(y_train, y_pred_train))\n",
    "print()\n",
    "print(accuracy_score(y_train, y_pred_train))\n",
    "print()\n",
    "print(classification_report(y_train, y_pred_train))"
   ]
  },
  {
   "cell_type": "code",
   "execution_count": 42,
   "metadata": {},
   "outputs": [
    {
     "name": "stdout",
     "output_type": "stream",
     "text": [
      "[[7 0]\n",
      " [3 2]]\n",
      "\n",
      "0.75\n",
      "\n",
      "              precision    recall  f1-score   support\n",
      "\n",
      "           0       0.70      1.00      0.82         7\n",
      "           1       1.00      0.40      0.57         5\n",
      "\n",
      "    accuracy                           0.75        12\n",
      "   macro avg       0.85      0.70      0.70        12\n",
      "weighted avg       0.82      0.75      0.72        12\n",
      "\n"
     ]
    }
   ],
   "source": [
    "# Teste\n",
    "print(confusion_matrix(y_test, y_pred))\n",
    "print()\n",
    "print(accuracy_score(y_test, y_pred))\n",
    "print()\n",
    "print(classification_report(y_test, y_pred))"
   ]
  },
  {
   "cell_type": "code",
   "execution_count": 43,
   "metadata": {},
   "outputs": [
    {
     "name": "stdout",
     "output_type": "stream",
     "text": [
      "AUC - Teste : 0.7142857142857144\n"
     ]
    },
    {
     "data": {
      "image/png": "[encoded data removed]",
      "text/plain": [
       "<Figure size 432x288 with 1 Axes>"
      ]
     },
     "metadata": {
      "needs_background": "light"
     },
     "output_type": "display_data"
    }
   ],
   "source": [
    "# Calculando a AUC (Area Under the Curve)\n",
    "fpr, tpr, thresholds = roc_curve(y_test, y_pred_proba)\n",
    "roc_auc = auc(fpr, tpr)\n",
    "\n",
    "print(\"AUC - Teste :\", roc_auc)\n",
    "\n",
    "# Criando Curva ROC\n",
    "fpr, tpr, thresholds = roc_curve(y_test,  y_pred_proba)\n",
    "\n",
    "plt.plot([0,1], [0,1], linestyle = '--', label = 'Modelo Naive')\n",
    "plt.plot(fpr, tpr, label = 'Regressão Logística')\n",
    "plt.ylabel('True Positive Rate')\n",
    "plt.xlabel('False Positive Rate')\n",
    "plt.title(\"ROC - Receiver Operating Characteristic\")\n",
    "plt.legend()\n",
    "plt.show()"
   ]
  },
  {
   "cell_type": "markdown",
   "metadata": {},
   "source": [
    "### Random Forest\n",
    "\n",
    "Hiperparâmetros a serem otimizados:\n",
    "\n",
    "* n_estimators -> número de árvores distintas estimadas (padrão: 10 -> pode ser muito pequeno)\n",
    "* max_features -> número máximo de variáveis independentes a ser considerado em cada nó das árvores de decisão (padrão: raiz quadrada da quantidade de variáveis independentes imputada ao modelo, o que é uma boa medida)"
   ]
  },
  {
   "cell_type": "code",
   "execution_count": 14,
   "metadata": {},
   "outputs": [
    {
     "ename": "KeyboardInterrupt",
     "evalue": "",
     "output_type": "error",
     "traceback": [
      "\u001b[1;31m---------------------------------------------------------------------------\u001b[0m",
      "\u001b[1;31mKeyboardInterrupt\u001b[0m                         Traceback (most recent call last)",
      "\u001b[1;32mC:\\Users\\BRUNOM~1\\AppData\\Local\\Temp/ipykernel_13528/165947938.py\u001b[0m in \u001b[0;36m<module>\u001b[1;34m\u001b[0m\n\u001b[0;32m      9\u001b[0m \u001b[1;33m\u001b[0m\u001b[0m\n\u001b[0;32m     10\u001b[0m \u001b[0mmelhor_modelo\u001b[0m \u001b[1;33m=\u001b[0m \u001b[0mGridSearchCV\u001b[0m\u001b[1;33m(\u001b[0m\u001b[0mmodelo\u001b[0m\u001b[1;33m,\u001b[0m \u001b[0mparametros\u001b[0m\u001b[1;33m,\u001b[0m \u001b[0mn_jobs\u001b[0m \u001b[1;33m=\u001b[0m \u001b[1;33m-\u001b[0m\u001b[1;36m1\u001b[0m\u001b[1;33m,\u001b[0m \u001b[0mcv\u001b[0m \u001b[1;33m=\u001b[0m \u001b[1;36m2\u001b[0m\u001b[1;33m,\u001b[0m \u001b[0mscoring\u001b[0m \u001b[1;33m=\u001b[0m \u001b[1;34m\"roc_auc\"\u001b[0m\u001b[1;33m)\u001b[0m\u001b[1;33m\u001b[0m\u001b[1;33m\u001b[0m\u001b[0m\n\u001b[1;32m---> 11\u001b[1;33m \u001b[0mmelhor_modelo\u001b[0m\u001b[1;33m.\u001b[0m\u001b[0mfit\u001b[0m\u001b[1;33m(\u001b[0m\u001b[0mX_train\u001b[0m\u001b[1;33m,\u001b[0m \u001b[0my_train\u001b[0m\u001b[1;33m)\u001b[0m\u001b[1;33m\u001b[0m\u001b[1;33m\u001b[0m\u001b[0m\n\u001b[0m\u001b[0;32m     12\u001b[0m \u001b[1;33m\u001b[0m\u001b[0m\n\u001b[0;32m     13\u001b[0m \u001b[0mprint\u001b[0m\u001b[1;33m(\u001b[0m\u001b[1;34m'Melhor conjunto de parâmetros:\\n'\u001b[0m\u001b[1;33m,\u001b[0m \u001b[0mmelhor_modelo\u001b[0m\u001b[1;33m.\u001b[0m\u001b[0mbest_params_\u001b[0m\u001b[1;33m)\u001b[0m\u001b[1;33m\u001b[0m\u001b[1;33m\u001b[0m\u001b[0m\n",
      "\u001b[1;32m~\\anaconda3\\lib\\site-packages\\sklearn\\model_selection\\_search.py\u001b[0m in \u001b[0;36mfit\u001b[1;34m(self, X, y, groups, **fit_params)\u001b[0m\n\u001b[0;32m    889\u001b[0m                 \u001b[1;32mreturn\u001b[0m \u001b[0mresults\u001b[0m\u001b[1;33m\u001b[0m\u001b[1;33m\u001b[0m\u001b[0m\n\u001b[0;32m    890\u001b[0m \u001b[1;33m\u001b[0m\u001b[0m\n\u001b[1;32m--> 891\u001b[1;33m             \u001b[0mself\u001b[0m\u001b[1;33m.\u001b[0m\u001b[0m_run_search\u001b[0m\u001b[1;33m(\u001b[0m\u001b[0mevaluate_candidates\u001b[0m\u001b[1;33m)\u001b[0m\u001b[1;33m\u001b[0m\u001b[1;33m\u001b[0m\u001b[0m\n\u001b[0m\u001b[0;32m    892\u001b[0m \u001b[1;33m\u001b[0m\u001b[0m\n\u001b[0;32m    893\u001b[0m             \u001b[1;31m# multimetric is determined here because in the case of a callable\u001b[0m\u001b[1;33m\u001b[0m\u001b[1;33m\u001b[0m\u001b[1;33m\u001b[0m\u001b[0m\n",
      "\u001b[1;32m~\\anaconda3\\lib\\site-packages\\sklearn\\model_selection\\_search.py\u001b[0m in \u001b[0;36m_run_search\u001b[1;34m(self, evaluate_candidates)\u001b[0m\n\u001b[0;32m   1390\u001b[0m     \u001b[1;32mdef\u001b[0m \u001b[0m_run_search\u001b[0m\u001b[1;33m(\u001b[0m\u001b[0mself\u001b[0m\u001b[1;33m,\u001b[0m \u001b[0mevaluate_candidates\u001b[0m\u001b[1;33m)\u001b[0m\u001b[1;33m:\u001b[0m\u001b[1;33m\u001b[0m\u001b[1;33m\u001b[0m\u001b[0m\n\u001b[0;32m   1391\u001b[0m         \u001b[1;34m\"\"\"Search all candidates in param_grid\"\"\"\u001b[0m\u001b[1;33m\u001b[0m\u001b[1;33m\u001b[0m\u001b[0m\n\u001b[1;32m-> 1392\u001b[1;33m         \u001b[0mevaluate_candidates\u001b[0m\u001b[1;33m(\u001b[0m\u001b[0mParameterGrid\u001b[0m\u001b[1;33m(\u001b[0m\u001b[0mself\u001b[0m\u001b[1;33m.\u001b[0m\u001b[0mparam_grid\u001b[0m\u001b[1;33m)\u001b[0m\u001b[1;33m)\u001b[0m\u001b[1;33m\u001b[0m\u001b[1;33m\u001b[0m\u001b[0m\n\u001b[0m\u001b[0;32m   1393\u001b[0m \u001b[1;33m\u001b[0m\u001b[0m\n\u001b[0;32m   1394\u001b[0m \u001b[1;33m\u001b[0m\u001b[0m\n",
      "\u001b[1;32m~\\anaconda3\\lib\\site-packages\\sklearn\\model_selection\\_search.py\u001b[0m in \u001b[0;36mevaluate_candidates\u001b[1;34m(candidate_params, cv, more_results)\u001b[0m\n\u001b[0;32m    836\u001b[0m                     )\n\u001b[0;32m    837\u001b[0m \u001b[1;33m\u001b[0m\u001b[0m\n\u001b[1;32m--> 838\u001b[1;33m                 out = parallel(\n\u001b[0m\u001b[0;32m    839\u001b[0m                     delayed(_fit_and_score)(\n\u001b[0;32m    840\u001b[0m                         \u001b[0mclone\u001b[0m\u001b[1;33m(\u001b[0m\u001b[0mbase_estimator\u001b[0m\u001b[1;33m)\u001b[0m\u001b[1;33m,\u001b[0m\u001b[1;33m\u001b[0m\u001b[1;33m\u001b[0m\u001b[0m\n",
      "\u001b[1;32m~\\anaconda3\\lib\\site-packages\\joblib\\parallel.py\u001b[0m in \u001b[0;36m__call__\u001b[1;34m(self, iterable)\u001b[0m\n\u001b[0;32m   1059\u001b[0m \u001b[1;33m\u001b[0m\u001b[0m\n\u001b[0;32m   1060\u001b[0m             \u001b[1;32mwith\u001b[0m \u001b[0mself\u001b[0m\u001b[1;33m.\u001b[0m\u001b[0m_backend\u001b[0m\u001b[1;33m.\u001b[0m\u001b[0mretrieval_context\u001b[0m\u001b[1;33m(\u001b[0m\u001b[1;33m)\u001b[0m\u001b[1;33m:\u001b[0m\u001b[1;33m\u001b[0m\u001b[1;33m\u001b[0m\u001b[0m\n\u001b[1;32m-> 1061\u001b[1;33m                 \u001b[0mself\u001b[0m\u001b[1;33m.\u001b[0m\u001b[0mretrieve\u001b[0m\u001b[1;33m(\u001b[0m\u001b[1;33m)\u001b[0m\u001b[1;33m\u001b[0m\u001b[1;33m\u001b[0m\u001b[0m\n\u001b[0m\u001b[0;32m   1062\u001b[0m             \u001b[1;31m# Make sure that we get a last message telling us we are done\u001b[0m\u001b[1;33m\u001b[0m\u001b[1;33m\u001b[0m\u001b[1;33m\u001b[0m\u001b[0m\n\u001b[0;32m   1063\u001b[0m             \u001b[0melapsed_time\u001b[0m \u001b[1;33m=\u001b[0m \u001b[0mtime\u001b[0m\u001b[1;33m.\u001b[0m\u001b[0mtime\u001b[0m\u001b[1;33m(\u001b[0m\u001b[1;33m)\u001b[0m \u001b[1;33m-\u001b[0m \u001b[0mself\u001b[0m\u001b[1;33m.\u001b[0m\u001b[0m_start_time\u001b[0m\u001b[1;33m\u001b[0m\u001b[1;33m\u001b[0m\u001b[0m\n",
      "\u001b[1;32m~\\anaconda3\\lib\\site-packages\\joblib\\parallel.py\u001b[0m in \u001b[0;36mretrieve\u001b[1;34m(self)\u001b[0m\n\u001b[0;32m    938\u001b[0m             \u001b[1;32mtry\u001b[0m\u001b[1;33m:\u001b[0m\u001b[1;33m\u001b[0m\u001b[1;33m\u001b[0m\u001b[0m\n\u001b[0;32m    939\u001b[0m                 \u001b[1;32mif\u001b[0m \u001b[0mgetattr\u001b[0m\u001b[1;33m(\u001b[0m\u001b[0mself\u001b[0m\u001b[1;33m.\u001b[0m\u001b[0m_backend\u001b[0m\u001b[1;33m,\u001b[0m \u001b[1;34m'supports_timeout'\u001b[0m\u001b[1;33m,\u001b[0m \u001b[1;32mFalse\u001b[0m\u001b[1;33m)\u001b[0m\u001b[1;33m:\u001b[0m\u001b[1;33m\u001b[0m\u001b[1;33m\u001b[0m\u001b[0m\n\u001b[1;32m--> 940\u001b[1;33m                     \u001b[0mself\u001b[0m\u001b[1;33m.\u001b[0m\u001b[0m_output\u001b[0m\u001b[1;33m.\u001b[0m\u001b[0mextend\u001b[0m\u001b[1;33m(\u001b[0m\u001b[0mjob\u001b[0m\u001b[1;33m.\u001b[0m\u001b[0mget\u001b[0m\u001b[1;33m(\u001b[0m\u001b[0mtimeout\u001b[0m\u001b[1;33m=\u001b[0m\u001b[0mself\u001b[0m\u001b[1;33m.\u001b[0m\u001b[0mtimeout\u001b[0m\u001b[1;33m)\u001b[0m\u001b[1;33m)\u001b[0m\u001b[1;33m\u001b[0m\u001b[1;33m\u001b[0m\u001b[0m\n\u001b[0m\u001b[0;32m    941\u001b[0m                 \u001b[1;32melse\u001b[0m\u001b[1;33m:\u001b[0m\u001b[1;33m\u001b[0m\u001b[1;33m\u001b[0m\u001b[0m\n\u001b[0;32m    942\u001b[0m                     \u001b[0mself\u001b[0m\u001b[1;33m.\u001b[0m\u001b[0m_output\u001b[0m\u001b[1;33m.\u001b[0m\u001b[0mextend\u001b[0m\u001b[1;33m(\u001b[0m\u001b[0mjob\u001b[0m\u001b[1;33m.\u001b[0m\u001b[0mget\u001b[0m\u001b[1;33m(\u001b[0m\u001b[1;33m)\u001b[0m\u001b[1;33m)\u001b[0m\u001b[1;33m\u001b[0m\u001b[1;33m\u001b[0m\u001b[0m\n",
      "\u001b[1;32m~\\anaconda3\\lib\\site-packages\\joblib\\_parallel_backends.py\u001b[0m in \u001b[0;36mwrap_future_result\u001b[1;34m(future, timeout)\u001b[0m\n\u001b[0;32m    540\u001b[0m         AsyncResults.get from multiprocessing.\"\"\"\n\u001b[0;32m    541\u001b[0m         \u001b[1;32mtry\u001b[0m\u001b[1;33m:\u001b[0m\u001b[1;33m\u001b[0m\u001b[1;33m\u001b[0m\u001b[0m\n\u001b[1;32m--> 542\u001b[1;33m             \u001b[1;32mreturn\u001b[0m \u001b[0mfuture\u001b[0m\u001b[1;33m.\u001b[0m\u001b[0mresult\u001b[0m\u001b[1;33m(\u001b[0m\u001b[0mtimeout\u001b[0m\u001b[1;33m=\u001b[0m\u001b[0mtimeout\u001b[0m\u001b[1;33m)\u001b[0m\u001b[1;33m\u001b[0m\u001b[1;33m\u001b[0m\u001b[0m\n\u001b[0m\u001b[0;32m    543\u001b[0m         \u001b[1;32mexcept\u001b[0m \u001b[0mCfTimeoutError\u001b[0m \u001b[1;32mas\u001b[0m \u001b[0me\u001b[0m\u001b[1;33m:\u001b[0m\u001b[1;33m\u001b[0m\u001b[1;33m\u001b[0m\u001b[0m\n\u001b[0;32m    544\u001b[0m             \u001b[1;32mraise\u001b[0m \u001b[0mTimeoutError\u001b[0m \u001b[1;32mfrom\u001b[0m \u001b[0me\u001b[0m\u001b[1;33m\u001b[0m\u001b[1;33m\u001b[0m\u001b[0m\n",
      "\u001b[1;32m~\\anaconda3\\lib\\concurrent\\futures\\_base.py\u001b[0m in \u001b[0;36mresult\u001b[1;34m(self, timeout)\u001b[0m\n\u001b[0;32m    432\u001b[0m                 \u001b[1;32mreturn\u001b[0m \u001b[0mself\u001b[0m\u001b[1;33m.\u001b[0m\u001b[0m__get_result\u001b[0m\u001b[1;33m(\u001b[0m\u001b[1;33m)\u001b[0m\u001b[1;33m\u001b[0m\u001b[1;33m\u001b[0m\u001b[0m\n\u001b[0;32m    433\u001b[0m \u001b[1;33m\u001b[0m\u001b[0m\n\u001b[1;32m--> 434\u001b[1;33m             \u001b[0mself\u001b[0m\u001b[1;33m.\u001b[0m\u001b[0m_condition\u001b[0m\u001b[1;33m.\u001b[0m\u001b[0mwait\u001b[0m\u001b[1;33m(\u001b[0m\u001b[0mtimeout\u001b[0m\u001b[1;33m)\u001b[0m\u001b[1;33m\u001b[0m\u001b[1;33m\u001b[0m\u001b[0m\n\u001b[0m\u001b[0;32m    435\u001b[0m \u001b[1;33m\u001b[0m\u001b[0m\n\u001b[0;32m    436\u001b[0m             \u001b[1;32mif\u001b[0m \u001b[0mself\u001b[0m\u001b[1;33m.\u001b[0m\u001b[0m_state\u001b[0m \u001b[1;32min\u001b[0m \u001b[1;33m[\u001b[0m\u001b[0mCANCELLED\u001b[0m\u001b[1;33m,\u001b[0m \u001b[0mCANCELLED_AND_NOTIFIED\u001b[0m\u001b[1;33m]\u001b[0m\u001b[1;33m:\u001b[0m\u001b[1;33m\u001b[0m\u001b[1;33m\u001b[0m\u001b[0m\n",
      "\u001b[1;32m~\\anaconda3\\lib\\threading.py\u001b[0m in \u001b[0;36mwait\u001b[1;34m(self, timeout)\u001b[0m\n\u001b[0;32m    300\u001b[0m         \u001b[1;32mtry\u001b[0m\u001b[1;33m:\u001b[0m    \u001b[1;31m# restore state no matter what (e.g., KeyboardInterrupt)\u001b[0m\u001b[1;33m\u001b[0m\u001b[1;33m\u001b[0m\u001b[0m\n\u001b[0;32m    301\u001b[0m             \u001b[1;32mif\u001b[0m \u001b[0mtimeout\u001b[0m \u001b[1;32mis\u001b[0m \u001b[1;32mNone\u001b[0m\u001b[1;33m:\u001b[0m\u001b[1;33m\u001b[0m\u001b[1;33m\u001b[0m\u001b[0m\n\u001b[1;32m--> 302\u001b[1;33m                 \u001b[0mwaiter\u001b[0m\u001b[1;33m.\u001b[0m\u001b[0macquire\u001b[0m\u001b[1;33m(\u001b[0m\u001b[1;33m)\u001b[0m\u001b[1;33m\u001b[0m\u001b[1;33m\u001b[0m\u001b[0m\n\u001b[0m\u001b[0;32m    303\u001b[0m                 \u001b[0mgotit\u001b[0m \u001b[1;33m=\u001b[0m \u001b[1;32mTrue\u001b[0m\u001b[1;33m\u001b[0m\u001b[1;33m\u001b[0m\u001b[0m\n\u001b[0;32m    304\u001b[0m             \u001b[1;32melse\u001b[0m\u001b[1;33m:\u001b[0m\u001b[1;33m\u001b[0m\u001b[1;33m\u001b[0m\u001b[0m\n",
      "\u001b[1;31mKeyboardInterrupt\u001b[0m: "
     ]
    }
   ],
   "source": [
    "# Cross-validation\n",
    "modelo = RandomForestClassifier(random_state = 42)\n",
    "\n",
    "parametros = {'max_depth': [10, 20, 30, None],\n",
    "              'min_samples_leaf': [1, 3, 5, 7],\n",
    "              'min_samples_split': [2, 6, 10, 14],\n",
    "              'n_estimators': [25, 50, 100, 200, 500, 1000],\n",
    "              'criterion': [\"gini\", 'entropy']}\n",
    "\n",
    "melhor_modelo = GridSearchCV(modelo, parametros, n_jobs = -1, cv = 2, scoring = \"roc_auc\")\n",
    "melhor_modelo.fit(X_train, y_train)\n",
    "\n",
    "print('Melhor conjunto de parâmetros:\\n', melhor_modelo.best_params_)"
   ]
  },
  {
   "cell_type": "code",
   "execution_count": null,
   "metadata": {},
   "outputs": [],
   "source": [
    "modelo = RandomForestClassifier(random_state = 42, verbose = True, criterion = \"gini\", max_depth = 10, min_samples_leaf = 7, min_samples_split = 2, n_estimators = 100)\n",
    "modelo.fit(X_train, y_train)"
   ]
  },
  {
   "cell_type": "code",
   "execution_count": null,
   "metadata": {},
   "outputs": [],
   "source": [
    "y_pred = modelo.predict(X_test)\n",
    "y_pred_train = modelo.predict(X_train)\n",
    "y_pred_proba = modelo.predict_proba(X_test)[:,1]\n",
    "pd.Series(y_pred_proba).plot(title = \"Probabilidades\")"
   ]
  },
  {
   "cell_type": "code",
   "execution_count": null,
   "metadata": {},
   "outputs": [],
   "source": [
    "# Treinamento\n",
    "print(confusion_matrix(y_train, y_pred_train))\n",
    "print()\n",
    "print(accuracy_score(y_train, y_pred_train))\n",
    "print()\n",
    "print(classification_report(y_train, y_pred_train))"
   ]
  },
  {
   "cell_type": "code",
   "execution_count": null,
   "metadata": {},
   "outputs": [],
   "source": [
    "# Teste\n",
    "print(confusion_matrix(y_test, y_pred))\n",
    "print()\n",
    "print(accuracy_score(y_test, y_pred))\n",
    "print()\n",
    "print(classification_report(y_test, y_pred))"
   ]
  },
  {
   "cell_type": "code",
   "execution_count": null,
   "metadata": {},
   "outputs": [],
   "source": [
    "# Calculando a AUC (Area Under the Curve)\n",
    "fpr, tpr, thresholds = roc_curve(y_test, y_pred_proba)\n",
    "roc_auc = auc(fpr, tpr)\n",
    "\n",
    "print(\"AUC - Teste :\", roc_auc)\n",
    "\n",
    "# Criando Curva ROC\n",
    "fpr, tpr, thresholds = roc_curve(y_test,  y_pred_proba)\n",
    "\n",
    "plt.plot([0,1], [0,1], linestyle = '--', label = 'Modelo Naive')\n",
    "plt.plot(fpr, tpr, label = 'Rede Neural')\n",
    "plt.ylabel('True Positive Rate')\n",
    "plt.xlabel('False Positive Rate')\n",
    "plt.title(\"ROC - Receiver Operating Characteristic\")\n",
    "plt.legend()\n",
    "plt.show()"
   ]
  },
  {
   "cell_type": "markdown",
   "metadata": {},
   "source": [
    "### Neural Network\n",
    "\n",
    "Hiperparâmetros a serem otimizados:\n",
    "\n",
    "* hidden_layer_sizes -> tupla contendo o número de neurônios dentro de cada camada (padrão: uma camada de 100 neurons)\n",
    "* max_iter -> número máximo de iterações a serem realizadas pelo método de backpropagation\n",
    "* alpha -> o valor máximo de alteração dos coeficientes em cada iteração, para minimizar a função de custo (padrão: 0.0001)\n",
    "* solver -> Algoritmo utilizado para encontrar a solução ótima, cujo tempo de obtenção da resposta varia. Opções: 'lbfgs', 'sgd' e 'adam'."
   ]
  },
  {
   "cell_type": "code",
   "execution_count": null,
   "metadata": {},
   "outputs": [],
   "source": [
    "# Cross-validation\n",
    "#modelo = MLPClassifier(max_iter = 100)\n",
    "\n",
    "#parametros = {'hidden_layer_sizes': [(50,50), (50,100,50), (100,)],\n",
    "#               'activation': ['tanh', 'relu'],\n",
    "#               'solver': ['sgd', 'adam', \"lbfgs\"],\n",
    "#               'alpha': [0.0001, 0.05],\n",
    "#               'learning_rate': ['constant','adaptive'],\n",
    "#               'max_iter': [5, 15, 25, 50, 100]}\n",
    "\n",
    "# melhor_modelo = GridSearchCV(modelo, parametros, n_jobs = -1, cv = 2, scoring = \"roc_auc\")\n",
    "# melhor_modelo.fit(X_train, y_train)\n",
    "\n",
    "# print('Melhor conjunto de parâmetros:\\n', melhor_modelo.best_params_)"
   ]
  },
  {
   "cell_type": "code",
   "execution_count": null,
   "metadata": {
    "scrolled": true
   },
   "outputs": [],
   "source": [
    "# Para não ter que rodar novamente...\n",
    "modelo = MLPClassifier(activation = \"tanh\", alpha = 0.0001, hidden_layer_sizes = (50, 100, 50), learning_rate = \"constant\", max_iter = 100, solver = \"adam\", verbose = True, random_state = 42)\n",
    "modelo.fit(X_train, y_train)"
   ]
  },
  {
   "cell_type": "code",
   "execution_count": null,
   "metadata": {},
   "outputs": [],
   "source": [
    "y_pred = modelo.predict(X_test)\n",
    "y_pred_train = modelo.predict(X_train)\n",
    "y_pred_proba = modelo.predict_proba(X_test)[:,1]\n",
    "pd.Series(y_pred_proba).plot(title = \"Probabilidades\")"
   ]
  },
  {
   "cell_type": "code",
   "execution_count": null,
   "metadata": {},
   "outputs": [],
   "source": [
    "# Treinamento\n",
    "print(confusion_matrix(y_train, y_pred_train))\n",
    "print()\n",
    "print(accuracy_score(y_train, y_pred_train))\n",
    "print()\n",
    "print(classification_report(y_train, y_pred_train))"
   ]
  },
  {
   "cell_type": "code",
   "execution_count": null,
   "metadata": {},
   "outputs": [],
   "source": [
    "# Teste\n",
    "print(confusion_matrix(y_test, y_pred))\n",
    "print()\n",
    "print(accuracy_score(y_test, y_pred))\n",
    "print()\n",
    "print(classification_report(y_test, y_pred))"
   ]
  },
  {
   "cell_type": "code",
   "execution_count": null,
   "metadata": {},
   "outputs": [],
   "source": [
    "# Calculando a AUC (Area Under the Curve)\n",
    "fpr, tpr, thresholds = roc_curve(y_test, y_pred_proba)\n",
    "roc_auc = auc(fpr, tpr)\n",
    "\n",
    "print(\"AUC - Teste :\", roc_auc)\n",
    "\n",
    "# Criando Curva ROC\n",
    "fpr, tpr, thresholds = roc_curve(y_test,  y_pred_proba)\n",
    "\n",
    "plt.plot([0,1], [0,1], linestyle = '--', label = 'Modelo Naive')\n",
    "plt.plot(fpr, tpr, label = 'Rede Neural')\n",
    "plt.ylabel('True Positive Rate')\n",
    "plt.xlabel('False Positive Rate')\n",
    "plt.title(\"ROC - Receiver Operating Characteristic\")\n",
    "plt.legend()\n",
    "plt.show()"
   ]
  },
  {
   "cell_type": "code",
   "execution_count": null,
   "metadata": {},
   "outputs": [],
   "source": [
    "# Curva de Custo\n",
    "pd.Series(modelo.loss_curve_).plot(title = \"Loss Curve\")"
   ]
  },
  {
   "cell_type": "code",
   "execution_count": null,
   "metadata": {},
   "outputs": [],
   "source": []
  }
 ],
 "metadata": {
  "kernelspec": {
   "display_name": "Python 3 (ipykernel)",
   "language": "python",
   "name": "python3"
  },
  "language_info": {
   "codemirror_mode": {
    "name": "ipython",
    "version": 3
   },
   "file_extension": ".py",
   "mimetype": "text/x-python",
   "name": "python",
   "nbconvert_exporter": "python",
   "pygments_lexer": "ipython3",
   "version": "3.8.5"
  }
 },
 "nbformat": 4,
 "nbformat_minor": 4
}
