{
 "cells": [
  {
   "cell_type": "markdown",
   "metadata": {},
   "source": [
    "#### Importing libs"
   ]
  },
  {
   "cell_type": "code",
   "execution_count": 1,
   "metadata": {},
   "outputs": [],
   "source": [
    "import pandas as pd\n",
    "import numpy as np"
   ]
  },
  {
   "cell_type": "markdown",
   "metadata": {},
   "source": [
    "# Data Import"
   ]
  },
  {
   "cell_type": "markdown",
   "metadata": {},
   "source": [
    "##### Importing features"
   ]
  },
  {
   "cell_type": "code",
   "execution_count": 2,
   "metadata": {},
   "outputs": [
    {
     "name": "stdout",
     "output_type": "stream",
     "text": [
      "dict_keys(['BOMBRIL', 'DOMMO', 'MRV', 'HOTEIS OTHON', 'JOÃO FORTES', 'MANGELS', 'ENERGISA', '3R PETROLEUM', 'ENEVA', 'ETERNIT', 'EUCATEX', 'FER HERINGER', 'GPC PART', 'LUPATECH', 'MMX MINER', 'OI', 'OSX BRASIL', 'PDG REALT', 'PET MANGUINHOS', 'POMIFRUTAS', 'RECRUSUL', 'REDE ENERGIA', 'SANSUY', 'SARAIVA', 'TECNOSOLO', 'TEKA', 'VIVER', 'WETZEL', 'BRASKEM', 'CEMIG', 'DURATEX', 'EZTEC', 'INDS ROMI', 'LITEL', 'MARCOPOLO', 'METAL IGUAÇU', 'SLC AGRICOLA', 'SONDOTECNICA', 'ULTRAPAR'])\n"
     ]
    }
   ],
   "source": [
    "sheet_id = \"1xOPRcRkJrGzxb65dieEHrWHnqXYrrSpx7Ack3pr6Pdw\"\n",
    "features = pd.read_excel(f\"https://docs.google.com/spreadsheets/d/{sheet_id}/export?format=xlsx\", sheet_name = None)\n",
    "print(features.keys()) # Empresas"
   ]
  },
  {
   "cell_type": "markdown",
   "metadata": {},
   "source": [
    "##### Importing targets"
   ]
  },
  {
   "cell_type": "code",
   "execution_count": 15,
   "metadata": {},
   "outputs": [
    {
     "name": "stdout",
     "output_type": "stream",
     "text": [
      "Classificações:  ['Falida', 'Não Falida', 'Recuperação Judicial']\n"
     ]
    },
    {
     "data": {
      "text/html": [
       "<div>\n",
       "<style scoped>\n",
       "    .dataframe tbody tr th:only-of-type {\n",
       "        vertical-align: middle;\n",
       "    }\n",
       "\n",
       "    .dataframe tbody tr th {\n",
       "        vertical-align: top;\n",
       "    }\n",
       "\n",
       "    .dataframe thead th {\n",
       "        text-align: right;\n",
       "    }\n",
       "</style>\n",
       "<table border=\"1\" class=\"dataframe\">\n",
       "  <thead>\n",
       "    <tr style=\"text-align: right;\">\n",
       "      <th></th>\n",
       "      <th>Ticker</th>\n",
       "      <th>Setor</th>\n",
       "      <th>Classificação</th>\n",
       "      <th>Alvo</th>\n",
       "    </tr>\n",
       "    <tr>\n",
       "      <th>Empresa</th>\n",
       "      <th></th>\n",
       "      <th></th>\n",
       "      <th></th>\n",
       "      <th></th>\n",
       "    </tr>\n",
       "  </thead>\n",
       "  <tbody>\n",
       "    <tr>\n",
       "      <th>BOMBRIL</th>\n",
       "      <td>BOBR</td>\n",
       "      <td>Consumo não Cíclico</td>\n",
       "      <td>Recuperação Judicial</td>\n",
       "      <td>1</td>\n",
       "    </tr>\n",
       "    <tr>\n",
       "      <th>DOMMO</th>\n",
       "      <td>DMMO</td>\n",
       "      <td>Petróleo, Gás e Biocombustíveis</td>\n",
       "      <td>Recuperação Judicial</td>\n",
       "      <td>1</td>\n",
       "    </tr>\n",
       "    <tr>\n",
       "      <th>ENEVA</th>\n",
       "      <td>ENEV</td>\n",
       "      <td>Utilidade Pública</td>\n",
       "      <td>Recuperação Judicial</td>\n",
       "      <td>1</td>\n",
       "    </tr>\n",
       "    <tr>\n",
       "      <th>ETERNIT</th>\n",
       "      <td>ETER</td>\n",
       "      <td>Bens Industriais</td>\n",
       "      <td>Recuperação Judicial</td>\n",
       "      <td>1</td>\n",
       "    </tr>\n",
       "    <tr>\n",
       "      <th>EUCATEX</th>\n",
       "      <td>EUCA</td>\n",
       "      <td>Materiais Básicos</td>\n",
       "      <td>Recuperação Judicial</td>\n",
       "      <td>1</td>\n",
       "    </tr>\n",
       "  </tbody>\n",
       "</table>\n",
       "</div>"
      ],
      "text/plain": [
       "        Ticker                            Setor         Classificação  Alvo\n",
       "Empresa                                                                    \n",
       "BOMBRIL   BOBR              Consumo não Cíclico  Recuperação Judicial     1\n",
       "DOMMO     DMMO  Petróleo, Gás e Biocombustíveis  Recuperação Judicial     1\n",
       "ENEVA     ENEV                Utilidade Pública  Recuperação Judicial     1\n",
       "ETERNIT   ETER                 Bens Industriais  Recuperação Judicial     1\n",
       "EUCATEX   EUCA                Materiais Básicos  Recuperação Judicial     1"
      ]
     },
     "execution_count": 15,
     "metadata": {},
     "output_type": "execute_result"
    }
   ],
   "source": [
    "sheet_id = \"116cM2eSTve3UHHYESOdWXRiYxx8gGAPPLlonNDNIn6M\"\n",
    "target = pd.read_excel(f\"https://docs.google.com/spreadsheets/d/{sheet_id}/export?format=xlsx\")\n",
    "\n",
    "# Alterando índices\n",
    "target.index = target[\"Empresa\"]\n",
    "target.drop([\"Empresa\"], axis = 1, inplace = True)\n",
    "\n",
    "# Montando o alvo\n",
    "print(\"Classificações: \",list(set(target[\"Classificação\"])))\n",
    "target[\"Alvo\"] = np.where(target[\"Classificação\"] == \"Não Falida\", 0, 1)\n",
    "\n",
    "target.head()"
   ]
  },
  {
   "cell_type": "markdown",
   "metadata": {},
   "source": [
    "##### Validation"
   ]
  },
  {
   "cell_type": "code",
   "execution_count": 4,
   "metadata": {},
   "outputs": [
    {
     "name": "stdout",
     "output_type": "stream",
     "text": [
      "Número de Empresas (Target): 39\n",
      "Número de Empresas (Features): 39\n",
      "Empresas Faltando: []\n"
     ]
    }
   ],
   "source": [
    "res = 0\n",
    "miss = []\n",
    "for i in list(features.keys()):\n",
    "    if i in list(target[\"Empresa\"].values):\n",
    "        res += 1\n",
    "    else:\n",
    "        miss.append(i)\n",
    "\n",
    "print(\"Número de Empresas (Target):\", res)\n",
    "print(\"Número de Empresas (Features):\", len(features.keys())) # Numero de empresas\n",
    "print(\"Empresas Faltando:\", miss)"
   ]
  },
  {
   "cell_type": "markdown",
   "metadata": {},
   "source": [
    "# Data Wrangling"
   ]
  },
  {
   "cell_type": "markdown",
   "metadata": {},
   "source": [
    "Próximos passos: \n",
    "* tratar NA's"
   ]
  },
  {
   "cell_type": "code",
   "execution_count": 19,
   "metadata": {},
   "outputs": [],
   "source": [
    "# Corte Transversal ou Cross-Sectional (analisa dados em um momento específico) -> oposto do longitudinal (série temporal)\n",
    "indicadores = list(features[\"BOMBRIL\"].iloc[35:, 0])\n",
    "\n",
    "def wrangle(ano_pre_fal):\n",
    "    # monta df para 1 a 5 anos pré-falência\n",
    "    \n",
    "    df = pd.DataFrame(index = features.keys())\n",
    "\n",
    "    for indicador in indicadores:\n",
    "        coluna = []\n",
    "        for empresa in features.keys():\n",
    "            data = features[empresa]\n",
    "            inds = data.columns[0]\n",
    "            val_ind = data[data[inds] == indicador].iloc[0, 6-ano_pre_fal]\n",
    "            coluna.append(val_ind)\n",
    "\n",
    "        df[indicador] = coluna\n",
    "    \n",
    "    df = df.join(target[\"Alvo\"]) # Acrescenta os alvos\n",
    "    \n",
    "    return df"
   ]
  },
  {
   "cell_type": "code",
   "execution_count": 20,
   "metadata": {},
   "outputs": [
    {
     "data": {
      "text/html": [
       "<div>\n",
       "<style scoped>\n",
       "    .dataframe tbody tr th:only-of-type {\n",
       "        vertical-align: middle;\n",
       "    }\n",
       "\n",
       "    .dataframe tbody tr th {\n",
       "        vertical-align: top;\n",
       "    }\n",
       "\n",
       "    .dataframe thead th {\n",
       "        text-align: right;\n",
       "    }\n",
       "</style>\n",
       "<table border=\"1\" class=\"dataframe\">\n",
       "  <thead>\n",
       "    <tr style=\"text-align: right;\">\n",
       "      <th></th>\n",
       "      <th>Dispon/PC</th>\n",
       "      <th>Dispon/Receita Liq Operacional</th>\n",
       "      <th>Dispon/AC</th>\n",
       "      <th>Dispon/AT</th>\n",
       "      <th>AC/PC</th>\n",
       "      <th>AC/AT</th>\n",
       "      <th>PC/AT</th>\n",
       "      <th>PC/Receita Liq Operacional</th>\n",
       "      <th>Estoque/AT</th>\n",
       "      <th>Quick assets/AT</th>\n",
       "      <th>...</th>\n",
       "      <th>VA/IMOBILIZADO</th>\n",
       "      <th>VA/AT</th>\n",
       "      <th>VA/RLO</th>\n",
       "      <th>Contas a pagar/RLO</th>\n",
       "      <th>AC/RLO</th>\n",
       "      <th>Estoque/RLO</th>\n",
       "      <th>NOWC/RLO</th>\n",
       "      <th>Contas a receber/RLO</th>\n",
       "      <th>RLO/AT</th>\n",
       "      <th>Alvo</th>\n",
       "    </tr>\n",
       "  </thead>\n",
       "  <tbody>\n",
       "    <tr>\n",
       "      <th>BOMBRIL</th>\n",
       "      <td>0.016553</td>\n",
       "      <td>0.0146029</td>\n",
       "      <td>0.0415163</td>\n",
       "      <td>0.0035729</td>\n",
       "      <td>0.398709</td>\n",
       "      <td>0.0860601</td>\n",
       "      <td>0.215847</td>\n",
       "      <td>0.882195</td>\n",
       "      <td>0.00776411</td>\n",
       "      <td>0.078296</td>\n",
       "      <td>...</td>\n",
       "      <td>0.8985</td>\n",
       "      <td>0.0549602</td>\n",
       "      <td>0.22463</td>\n",
       "      <td>0.106932</td>\n",
       "      <td>0.35174</td>\n",
       "      <td>0.031733</td>\n",
       "      <td>0.131856</td>\n",
       "      <td>0.291518</td>\n",
       "      <td>0.24467</td>\n",
       "      <td>1</td>\n",
       "    </tr>\n",
       "    <tr>\n",
       "      <th>DOMMO</th>\n",
       "      <td>738.67</td>\n",
       "      <td>#DIV/0!</td>\n",
       "      <td>0.973268</td>\n",
       "      <td>0.387517</td>\n",
       "      <td>758.958</td>\n",
       "      <td>0.39816</td>\n",
       "      <td>0.000524615</td>\n",
       "      <td>#DIV/0!</td>\n",
       "      <td>0</td>\n",
       "      <td>0.39816</td>\n",
       "      <td>...</td>\n",
       "      <td>#DIV/0!</td>\n",
       "      <td>0</td>\n",
       "      <td>#DIV/0!</td>\n",
       "      <td>#DIV/0!</td>\n",
       "      <td>#DIV/0!</td>\n",
       "      <td>#DIV/0!</td>\n",
       "      <td>#DIV/0!</td>\n",
       "      <td>#DIV/0!</td>\n",
       "      <td>0</td>\n",
       "      <td>1</td>\n",
       "    </tr>\n",
       "    <tr>\n",
       "      <th>MRV</th>\n",
       "      <td>0.421565</td>\n",
       "      <td>0.36419</td>\n",
       "      <td>0.224177</td>\n",
       "      <td>0.133973</td>\n",
       "      <td>1.8805</td>\n",
       "      <td>0.597621</td>\n",
       "      <td>0.317799</td>\n",
       "      <td>0.8639</td>\n",
       "      <td>0.167733</td>\n",
       "      <td>0.429888</td>\n",
       "      <td>...</td>\n",
       "      <td>3.43689</td>\n",
       "      <td>0.0286998</td>\n",
       "      <td>0.0780171</td>\n",
       "      <td>0.0630912</td>\n",
       "      <td>1.62456</td>\n",
       "      <td>0.455963</td>\n",
       "      <td>1.44531</td>\n",
       "      <td>0.718978</td>\n",
       "      <td>0.367866</td>\n",
       "      <td>0</td>\n",
       "    </tr>\n",
       "    <tr>\n",
       "      <th>HOTEIS OTHON</th>\n",
       "      <td>0.0241213</td>\n",
       "      <td>0.0220678</td>\n",
       "      <td>0.0705841</td>\n",
       "      <td>0.00714738</td>\n",
       "      <td>0.341738</td>\n",
       "      <td>0.101261</td>\n",
       "      <td>0.296311</td>\n",
       "      <td>0.914868</td>\n",
       "      <td>0.00505243</td>\n",
       "      <td>0.0962081</td>\n",
       "      <td>...</td>\n",
       "      <td>0.236722</td>\n",
       "      <td>0.183042</td>\n",
       "      <td>0.565149</td>\n",
       "      <td>0.0825203</td>\n",
       "      <td>0.312645</td>\n",
       "      <td>0.0155995</td>\n",
       "      <td>-0.240094</td>\n",
       "      <td>0.202186</td>\n",
       "      <td>0.323883</td>\n",
       "      <td>1</td>\n",
       "    </tr>\n",
       "    <tr>\n",
       "      <th>JOÃO FORTES</th>\n",
       "      <td>0.0330869</td>\n",
       "      <td>0.0762805</td>\n",
       "      <td>0.0190804</td>\n",
       "      <td>0.0140674</td>\n",
       "      <td>1.73408</td>\n",
       "      <td>0.737272</td>\n",
       "      <td>0.425165</td>\n",
       "      <td>2.30546</td>\n",
       "      <td>0.333535</td>\n",
       "      <td>0.403736</td>\n",
       "      <td>...</td>\n",
       "      <td>-24.8306</td>\n",
       "      <td>-0.0552628</td>\n",
       "      <td>-0.299662</td>\n",
       "      <td>0.0646431</td>\n",
       "      <td>3.99785</td>\n",
       "      <td>1.80859</td>\n",
       "      <td>3.56518</td>\n",
       "      <td>1.84889</td>\n",
       "      <td>0.184417</td>\n",
       "      <td>1</td>\n",
       "    </tr>\n",
       "  </tbody>\n",
       "</table>\n",
       "<p>5 rows × 51 columns</p>\n",
       "</div>"
      ],
      "text/plain": [
       "              Dispon/PC Dispon/Receita Liq Operacional  Dispon/AC   Dispon/AT  \\\n",
       "BOMBRIL        0.016553                      0.0146029  0.0415163   0.0035729   \n",
       "DOMMO            738.67                        #DIV/0!   0.973268    0.387517   \n",
       "MRV            0.421565                        0.36419   0.224177    0.133973   \n",
       "HOTEIS OTHON  0.0241213                      0.0220678  0.0705841  0.00714738   \n",
       "JOÃO FORTES   0.0330869                      0.0762805  0.0190804   0.0140674   \n",
       "\n",
       "                 AC/PC      AC/AT        PC/AT PC/Receita Liq Operacional  \\\n",
       "BOMBRIL       0.398709  0.0860601     0.215847                   0.882195   \n",
       "DOMMO          758.958    0.39816  0.000524615                    #DIV/0!   \n",
       "MRV             1.8805   0.597621     0.317799                     0.8639   \n",
       "HOTEIS OTHON  0.341738   0.101261     0.296311                   0.914868   \n",
       "JOÃO FORTES    1.73408   0.737272     0.425165                    2.30546   \n",
       "\n",
       "              Estoque/AT Quick assets/AT  ... VA/IMOBILIZADO      VA/AT  \\\n",
       "BOMBRIL       0.00776411        0.078296  ...         0.8985  0.0549602   \n",
       "DOMMO                  0         0.39816  ...        #DIV/0!          0   \n",
       "MRV             0.167733        0.429888  ...        3.43689  0.0286998   \n",
       "HOTEIS OTHON  0.00505243       0.0962081  ...       0.236722   0.183042   \n",
       "JOÃO FORTES     0.333535        0.403736  ...       -24.8306 -0.0552628   \n",
       "\n",
       "                 VA/RLO Contas a pagar/RLO    AC/RLO Estoque/RLO  NOWC/RLO  \\\n",
       "BOMBRIL         0.22463           0.106932   0.35174    0.031733  0.131856   \n",
       "DOMMO           #DIV/0!            #DIV/0!   #DIV/0!     #DIV/0!   #DIV/0!   \n",
       "MRV           0.0780171          0.0630912   1.62456    0.455963   1.44531   \n",
       "HOTEIS OTHON   0.565149          0.0825203  0.312645   0.0155995 -0.240094   \n",
       "JOÃO FORTES   -0.299662          0.0646431   3.99785     1.80859   3.56518   \n",
       "\n",
       "             Contas a receber/RLO    RLO/AT Alvo  \n",
       "BOMBRIL                  0.291518   0.24467    1  \n",
       "DOMMO                     #DIV/0!         0    1  \n",
       "MRV                      0.718978  0.367866    0  \n",
       "HOTEIS OTHON             0.202186  0.323883    1  \n",
       "JOÃO FORTES               1.84889  0.184417    1  \n",
       "\n",
       "[5 rows x 51 columns]"
      ]
     },
     "execution_count": 20,
     "metadata": {},
     "output_type": "execute_result"
    }
   ],
   "source": [
    "df_5y = wrangle(5)\n",
    "df_5y.head()"
   ]
  },
  {
   "cell_type": "code",
   "execution_count": null,
   "metadata": {},
   "outputs": [],
   "source": []
  }
 ],
 "metadata": {
  "kernelspec": {
   "display_name": "Python 3 (ipykernel)",
   "language": "python",
   "name": "python3"
  },
  "language_info": {
   "codemirror_mode": {
    "name": "ipython",
    "version": 3
   },
   "file_extension": ".py",
   "mimetype": "text/x-python",
   "name": "python",
   "nbconvert_exporter": "python",
   "pygments_lexer": "ipython3",
   "version": "3.8.5"
  }
 },
 "nbformat": 4,
 "nbformat_minor": 4
}
