{
 "cells": [
  {
   "cell_type": "markdown",
   "metadata": {},
   "source": [
    "# Importação dos Dados"
   ]
  },
  {
   "cell_type": "code",
   "execution_count": 1,
   "metadata": {},
   "outputs": [],
   "source": [
    "# Manipulação de Dados\n",
    "import pandas as pd\n",
    "import numpy as np\n",
    "import matplotlib.pyplot as plt\n",
    "\n",
    "# Pré-processamento dos Dados\n",
    "from sklearn.preprocessing import StandardScaler\n",
    "from sklearn.decomposition import PCA\n",
    "\n",
    "# Modelos Utilizados\n",
    "from sklearn.ensemble import RandomForestClassifier\n",
    "from sklearn.linear_model import LogisticRegression\n",
    "from sklearn.neural_network import MLPClassifier\n",
    "\n",
    "# Otimização\n",
    "from sklearn.model_selection import train_test_split, GridSearchCV\n",
    "\n",
    "# Métricas de Avaliação: Classificação\n",
    "from sklearn.metrics import classification_report, confusion_matrix, accuracy_score, roc_curve, auc, RocCurveDisplay"
   ]
  },
  {
   "cell_type": "code",
   "execution_count": 2,
   "metadata": {},
   "outputs": [
    {
     "name": "stdout",
     "output_type": "stream",
     "text": [
      "DataFrames disponíveis:  ['df_1y', 'df_2y', 'df_3y', 'df_4y', 'df_5y']\n"
     ]
    }
   ],
   "source": [
    "# Importação\n",
    "dfs = pd.read_excel(\"../data/dados.xlsx\", sheet_name = None, index_col = \"Empresa\")\n",
    "print(\"DataFrames disponíveis: \", list(dfs.keys())) # representam indicadores de anos antes da falência"
   ]
  },
  {
   "cell_type": "markdown",
   "metadata": {},
   "source": [
    "# Tratamento"
   ]
  },
  {
   "cell_type": "code",
   "execution_count": 4,
   "metadata": {},
   "outputs": [],
   "source": [
    "def tratamento(n):\n",
    "    # Selecione dados de 1 a 5 anos pré-falência: \n",
    "    df = dfs[list(dfs.keys())[n-1]]\n",
    "    print(\"DataFrame Escolhido:\", n)\n",
    "    \n",
    "    # Apagando NA's\n",
    "    df.dropna(inplace = True)\n",
    "    print(\"\\nQuantidade de Amostras:\\n\", df[\"Alvo\"].value_counts())\n",
    "\n",
    "    # Treino e Teste\n",
    "    X = df.drop(\"Alvo\", axis = 1)\n",
    "    y = df[\"Alvo\"]\n",
    "    X_train, X_test, y_train, y_test = train_test_split(X, y, random_state = 42)\n",
    "\n",
    "    # Transformações Lineares\n",
    "    scaler = StandardScaler()\n",
    "    X_train_norm = scaler.fit_transform(X_train)\n",
    "    X_test_norm = scaler.transform(X_test)\n",
    "    pca = PCA()\n",
    "    X_train = pca.fit_transform(X_train_norm)\n",
    "    X_test = pca.transform(X_test_norm)\n",
    "\n",
    "    print(\"\\nExplicação de Cada Componente:\", pca.explained_variance_ratio_.cumsum().round(2))"
   ]
  },
  {
   "cell_type": "code",
   "execution_count": 20,
   "metadata": {},
   "outputs": [
    {
     "name": "stdout",
     "output_type": "stream",
     "text": [
      "[[7 1]\n",
      " [2 3]]\n",
      "\n",
      "0.7692307692307693\n",
      "\n",
      "              precision    recall  f1-score   support\n",
      "\n",
      "           0       0.78      0.88      0.82         8\n",
      "           1       0.75      0.60      0.67         5\n",
      "\n",
      "    accuracy                           0.77        13\n",
      "   macro avg       0.76      0.74      0.75        13\n",
      "weighted avg       0.77      0.77      0.76        13\n",
      "\n",
      "AUC - Teste : 0.575\n"
     ]
    }
   ],
   "source": [
    "# Regressão Logística\n",
    "modelo = LogisticRegression(max_iter = 1000, random_state = 42)\n",
    "modelo.fit(X_train, y_train)\n",
    "y_pred = modelo.predict(X_test)\n",
    "y_pred_train = modelo.predict(X_train)\n",
    "y_pred_proba_train = modelo.predict_proba(X_train)[:,1]\n",
    "y_pred_proba = modelo.predict_proba(X_test)[:,1]\n",
    "\n",
    "# Teste\n",
    "print(confusion_matrix(y_test, y_pred))\n",
    "print()\n",
    "print(accuracy_score(y_test, y_pred))\n",
    "print()\n",
    "print(classification_report(y_test, y_pred))\n",
    "\n",
    "# Calculando a AUC (Area Under the Curve)\n",
    "fpr, tpr, thresholds = roc_curve(y_test, y_pred_proba)\n",
    "roc_auc = auc(fpr, tpr)\n",
    "print(\"AUC - Teste :\", roc_auc)"
   ]
  },
  {
   "cell_type": "code",
   "execution_count": 21,
   "metadata": {},
   "outputs": [
    {
     "name": "stdout",
     "output_type": "stream",
     "text": [
      "[[7 1]\n",
      " [2 3]]\n",
      "\n",
      "0.7692307692307693\n",
      "\n",
      "              precision    recall  f1-score   support\n",
      "\n",
      "           0       0.78      0.88      0.82         8\n",
      "           1       0.75      0.60      0.67         5\n",
      "\n",
      "    accuracy                           0.77        13\n",
      "   macro avg       0.76      0.74      0.75        13\n",
      "weighted avg       0.77      0.77      0.76        13\n",
      "\n",
      "AUC - Teste : 0.8875\n"
     ]
    }
   ],
   "source": [
    "# Random Forest\n",
    "modelo = RandomForestClassifier(random_state = 42)\n",
    "modelo.fit(X_train, y_train)\n",
    "\n",
    "y_pred = modelo.predict(X_test)\n",
    "y_pred_train = modelo.predict(X_train)\n",
    "y_pred_proba = modelo.predict_proba(X_test)[:,1]\n",
    "\n",
    "# Teste\n",
    "print(confusion_matrix(y_test, y_pred))\n",
    "print()\n",
    "print(accuracy_score(y_test, y_pred))\n",
    "print()\n",
    "print(classification_report(y_test, y_pred))\n",
    "\n",
    "# Calculando a AUC (Area Under the Curve)\n",
    "fpr, tpr, thresholds = roc_curve(y_test, y_pred_proba)\n",
    "roc_auc = auc(fpr, tpr)\n",
    "print(\"AUC - Teste :\", roc_auc)"
   ]
  },
  {
   "cell_type": "code",
   "execution_count": 22,
   "metadata": {},
   "outputs": [
    {
     "name": "stdout",
     "output_type": "stream",
     "text": [
      "[[7 1]\n",
      " [3 2]]\n",
      "\n",
      "0.6923076923076923\n",
      "\n",
      "              precision    recall  f1-score   support\n",
      "\n",
      "           0       0.70      0.88      0.78         8\n",
      "           1       0.67      0.40      0.50         5\n",
      "\n",
      "    accuracy                           0.69        13\n",
      "   macro avg       0.68      0.64      0.64        13\n",
      "weighted avg       0.69      0.69      0.67        13\n",
      "\n",
      "AUC - Teste : 0.5\n"
     ]
    },
    {
     "name": "stderr",
     "output_type": "stream",
     "text": [
      "C:\\Users\\Bruno Marcelino\\anaconda3\\lib\\site-packages\\sklearn\\neural_network\\_multilayer_perceptron.py:692: ConvergenceWarning: Stochastic Optimizer: Maximum iterations (200) reached and the optimization hasn't converged yet.\n",
      "  warnings.warn(\n"
     ]
    }
   ],
   "source": [
    "# Rede Neural\n",
    "modelo = MLPClassifier(random_state = 42)\n",
    "modelo.fit(X_train, y_train)\n",
    "\n",
    "y_pred = modelo.predict(X_test)\n",
    "y_pred_train = modelo.predict(X_train)\n",
    "y_pred_proba = modelo.predict_proba(X_test)[:,1]\n",
    "\n",
    "# Teste\n",
    "print(confusion_matrix(y_test, y_pred))\n",
    "print()\n",
    "print(accuracy_score(y_test, y_pred))\n",
    "print()\n",
    "print(classification_report(y_test, y_pred))\n",
    "\n",
    "# Calculando a AUC (Area Under the Curve)\n",
    "fpr, tpr, thresholds = roc_curve(y_test, y_pred_proba)\n",
    "roc_auc = auc(fpr, tpr)\n",
    "print(\"AUC - Teste :\", roc_auc)"
   ]
  }
 ],
 "metadata": {
  "kernelspec": {
   "display_name": "Python 3 (ipykernel)",
   "language": "python",
   "name": "python3"
  },
  "language_info": {
   "codemirror_mode": {
    "name": "ipython",
    "version": 3
   },
   "file_extension": ".py",
   "mimetype": "text/x-python",
   "name": "python",
   "nbconvert_exporter": "python",
   "pygments_lexer": "ipython3",
   "version": "3.9.12"
  }
 },
 "nbformat": 4,
 "nbformat_minor": 4
}
